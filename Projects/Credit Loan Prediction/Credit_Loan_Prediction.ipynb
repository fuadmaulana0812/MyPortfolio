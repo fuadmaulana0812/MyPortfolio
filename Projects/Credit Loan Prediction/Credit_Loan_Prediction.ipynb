{
  "nbformat": 4,
  "nbformat_minor": 0,
  "metadata": {
    "colab": {
      "provenance": []
    },
    "kernelspec": {
      "name": "python3",
      "display_name": "Python 3"
    },
    "language_info": {
      "name": "python"
    }
  },
  "cells": [
    {
      "cell_type": "code",
      "execution_count": 62,
      "metadata": {
        "id": "SY0tsEGdU3VP"
      },
      "outputs": [],
      "source": [
        "# Import library\n",
        "import pandas as pd\n",
        "import numpy as np\n",
        "import matplotlib.pyplot as plt\n",
        "\n",
        "from sklearn.svm import SVC\n",
        "from imblearn.over_sampling import SMOTE\n",
        "from imblearn.under_sampling import RandomUnderSampler\n",
        "from imblearn.pipeline import Pipeline\n",
        "from sklearn.model_selection import cross_val_score\n",
        "from numpy import mean\n",
        "\n",
        "from sklearn.model_selection import train_test_split\n",
        "from sklearn.preprocessing import StandardScaler, MinMaxScaler\n",
        "from sklearn.decomposition import PCA\n",
        "\n",
        "from sklearn.tree import DecisionTreeClassifier\n",
        "from sklearn.ensemble import RandomForestClassifier\n",
        "from xgboost import XGBClassifier\n",
        "from sklearn.neighbors import KNeighborsClassifier\n",
        "from sklearn.svm import SVC\n",
        "from sklearn.metrics import classification_report\n",
        "from sklearn.model_selection import RandomizedSearchCV\n",
        "\n",
        "import pickle"
      ]
    },
    {
      "cell_type": "code",
      "source": [
        "# Download dan extract dataset\n",
        "\n",
        "!wget --load-cookies /tmp/cookies.txt \"https://docs.google.com/uc?export=download&confirm=$(wget --quiet --save-cookies /tmp/cookies.txt --keep-session-cookies --no-check-certificate 'https://docs.google.com/uc?export=download&id=1qfKeXVzAFvvbgjPYrUOIBBYk0WrQ2bCf' -O- | sed -rn 's/.*confirm=([0-9A-Za-z_]+).*/\\1\\n/p')&id=1qfKeXVzAFvvbgjPYrUOIBBYk0WrQ2bCf\" -O loan_dataset.xlsx && rm -rf /tmp/cookies.txt"
      ],
      "metadata": {
        "id": "nbUcpzaAc8Uz",
        "colab": {
          "base_uri": "https://localhost:8080/"
        },
        "outputId": "b73e6247-5626-4016-e679-a6434b206717"
      },
      "execution_count": 4,
      "outputs": [
        {
          "output_type": "stream",
          "name": "stdout",
          "text": [
            "--2023-05-14 09:58:07--  https://docs.google.com/uc?export=download&confirm=&id=1qfKeXVzAFvvbgjPYrUOIBBYk0WrQ2bCf\n",
            "Resolving docs.google.com (docs.google.com)... 74.125.23.102, 74.125.23.100, 74.125.23.139, ...\n",
            "Connecting to docs.google.com (docs.google.com)|74.125.23.102|:443... connected.\n",
            "HTTP request sent, awaiting response... 303 See Other\n",
            "Location: https://doc-04-90-docs.googleusercontent.com/docs/securesc/ha0ro937gcuc7l7deffksulhg5h7mbp1/p1gqhns9d546c9pf1796juesihnvqqft/1684058250000/11309364930090306574/*/1qfKeXVzAFvvbgjPYrUOIBBYk0WrQ2bCf?e=download&uuid=ca0d5f04-e6b4-49ff-b8e8-999c4dd7353f [following]\n",
            "Warning: wildcards not supported in HTTP.\n",
            "--2023-05-14 09:58:08--  https://doc-04-90-docs.googleusercontent.com/docs/securesc/ha0ro937gcuc7l7deffksulhg5h7mbp1/p1gqhns9d546c9pf1796juesihnvqqft/1684058250000/11309364930090306574/*/1qfKeXVzAFvvbgjPYrUOIBBYk0WrQ2bCf?e=download&uuid=ca0d5f04-e6b4-49ff-b8e8-999c4dd7353f\n",
            "Resolving doc-04-90-docs.googleusercontent.com (doc-04-90-docs.googleusercontent.com)... 74.125.203.132, 2404:6800:4008:c03::84\n",
            "Connecting to doc-04-90-docs.googleusercontent.com (doc-04-90-docs.googleusercontent.com)|74.125.203.132|:443... connected.\n",
            "HTTP request sent, awaiting response... 200 OK\n",
            "Length: 389206 (380K) [application/vnd.openxmlformats-officedocument.spreadsheetml.sheet]\n",
            "Saving to: ‘loan_dataset.xlsx’\n",
            "\n",
            "loan_dataset.xlsx   100%[===================>] 380.08K  --.-KB/s    in 0.003s  \n",
            "\n",
            "2023-05-14 09:58:08 (110 MB/s) - ‘loan_dataset.xlsx’ saved [389206/389206]\n",
            "\n"
          ]
        }
      ]
    },
    {
      "cell_type": "code",
      "source": [
        "# Import dataset and show dataset\n",
        "df = pd.read_excel(\"loan_dataset.xlsx\")\n",
        "df.info()\n",
        "df.head()"
      ],
      "metadata": {
        "colab": {
          "base_uri": "https://localhost:8080/",
          "height": 941
        },
        "id": "Qce2soEIVUUo",
        "outputId": "836cc669-b5ad-47ae-b686-4922271c72b4"
      },
      "execution_count": 22,
      "outputs": [
        {
          "output_type": "stream",
          "name": "stdout",
          "text": [
            "<class 'pandas.core.frame.DataFrame'>\n",
            "RangeIndex: 3000 entries, 0 to 2999\n",
            "Data columns (total 30 columns):\n",
            " #   Column           Non-Null Count  Dtype  \n",
            "---  ------           --------------  -----  \n",
            " 0   TARGET           3000 non-null   int64  \n",
            " 1   ID               3000 non-null   int64  \n",
            " 2   DerogCnt         3000 non-null   int64  \n",
            " 3   CollectCnt       3000 non-null   int64  \n",
            " 4   BanruptcyInd     3000 non-null   int64  \n",
            " 5   InqCnt06         3000 non-null   int64  \n",
            " 6   InqTimeLast      2812 non-null   float64\n",
            " 7   InqFinanceCnt24  3000 non-null   int64  \n",
            " 8   TLTimeFirst      3000 non-null   int64  \n",
            " 9   TLTimeLast       3000 non-null   int64  \n",
            " 10  TLCnt03          3000 non-null   int64  \n",
            " 11  TLCnt12          3000 non-null   int64  \n",
            " 12  TLCnt24          3000 non-null   int64  \n",
            " 13  TLCnt            2997 non-null   float64\n",
            " 14  TLSum            2960 non-null   float64\n",
            " 15  TLMaxSum         2960 non-null   float64\n",
            " 16  TLSatCnt         2996 non-null   float64\n",
            " 17  TLDel60Cnt       3000 non-null   int64  \n",
            " 18  TLBadCnt24       3000 non-null   int64  \n",
            " 19  TL75UtilCnt      2901 non-null   float64\n",
            " 20  TL50UtilCnt      2901 non-null   float64\n",
            " 21  TLBalHCPct       2959 non-null   float64\n",
            " 22  TLSatPct         2996 non-null   float64\n",
            " 23  TLDel3060Cnt24   3000 non-null   int64  \n",
            " 24  TLDel90Cnt24     3000 non-null   int64  \n",
            " 25  TLDel60CntAll    3000 non-null   int64  \n",
            " 26  TLOpenPct        2997 non-null   float64\n",
            " 27  TLBadDerogCnt    3000 non-null   int64  \n",
            " 28  TLDel60Cnt24     3000 non-null   int64  \n",
            " 29  TLOpen24Pct      2997 non-null   float64\n",
            "dtypes: float64(11), int64(19)\n",
            "memory usage: 703.2 KB\n"
          ]
        },
        {
          "output_type": "execute_result",
          "data": {
            "text/plain": [
              "   TARGET    ID  DerogCnt  CollectCnt  BanruptcyInd  InqCnt06  InqTimeLast  \\\n",
              "0       1   582         3           3             0         4          0.0   \n",
              "1       1   662        15           9             0         3          1.0   \n",
              "2       1   805         0           0             0         1          5.0   \n",
              "3       1  1175         8           5             0         6          1.0   \n",
              "4       1  1373         3           1             0         9          0.0   \n",
              "\n",
              "   InqFinanceCnt24  TLTimeFirst  TLTimeLast  ...  TL50UtilCnt  TLBalHCPct  \\\n",
              "0                5          117          27  ...          3.0      0.9179   \n",
              "1                3           14          14  ...          1.0      0.8000   \n",
              "2                1          354           7  ...          5.0      0.3552   \n",
              "3               10           16           4  ...          3.0      0.9127   \n",
              "4                8          130          52  ...          1.0      1.2511   \n",
              "\n",
              "   TLSatPct  TLDel3060Cnt24  TLDel90Cnt24  TLDel60CntAll  TLOpenPct  \\\n",
              "0    0.2083               2             3              7     0.2083   \n",
              "1    0.0000               0             0              0     1.0000   \n",
              "2    0.6538               0             1              1     0.7308   \n",
              "3    0.2500               1             1              1     0.7500   \n",
              "4    0.0000               0             1              4     0.1429   \n",
              "\n",
              "   TLBadDerogCnt  TLDel60Cnt24  TLOpen24Pct  \n",
              "0              4             4       0.0000  \n",
              "1             12             0       1.0000  \n",
              "2              1             1       0.5263  \n",
              "3              7             1       1.3333  \n",
              "4              3             1       0.0000  \n",
              "\n",
              "[5 rows x 30 columns]"
            ],
            "text/html": [
              "\n",
              "  <div id=\"df-682bc59b-d9e8-4037-b484-87ac46afb72e\">\n",
              "    <div class=\"colab-df-container\">\n",
              "      <div>\n",
              "<style scoped>\n",
              "    .dataframe tbody tr th:only-of-type {\n",
              "        vertical-align: middle;\n",
              "    }\n",
              "\n",
              "    .dataframe tbody tr th {\n",
              "        vertical-align: top;\n",
              "    }\n",
              "\n",
              "    .dataframe thead th {\n",
              "        text-align: right;\n",
              "    }\n",
              "</style>\n",
              "<table border=\"1\" class=\"dataframe\">\n",
              "  <thead>\n",
              "    <tr style=\"text-align: right;\">\n",
              "      <th></th>\n",
              "      <th>TARGET</th>\n",
              "      <th>ID</th>\n",
              "      <th>DerogCnt</th>\n",
              "      <th>CollectCnt</th>\n",
              "      <th>BanruptcyInd</th>\n",
              "      <th>InqCnt06</th>\n",
              "      <th>InqTimeLast</th>\n",
              "      <th>InqFinanceCnt24</th>\n",
              "      <th>TLTimeFirst</th>\n",
              "      <th>TLTimeLast</th>\n",
              "      <th>...</th>\n",
              "      <th>TL50UtilCnt</th>\n",
              "      <th>TLBalHCPct</th>\n",
              "      <th>TLSatPct</th>\n",
              "      <th>TLDel3060Cnt24</th>\n",
              "      <th>TLDel90Cnt24</th>\n",
              "      <th>TLDel60CntAll</th>\n",
              "      <th>TLOpenPct</th>\n",
              "      <th>TLBadDerogCnt</th>\n",
              "      <th>TLDel60Cnt24</th>\n",
              "      <th>TLOpen24Pct</th>\n",
              "    </tr>\n",
              "  </thead>\n",
              "  <tbody>\n",
              "    <tr>\n",
              "      <th>0</th>\n",
              "      <td>1</td>\n",
              "      <td>582</td>\n",
              "      <td>3</td>\n",
              "      <td>3</td>\n",
              "      <td>0</td>\n",
              "      <td>4</td>\n",
              "      <td>0.0</td>\n",
              "      <td>5</td>\n",
              "      <td>117</td>\n",
              "      <td>27</td>\n",
              "      <td>...</td>\n",
              "      <td>3.0</td>\n",
              "      <td>0.9179</td>\n",
              "      <td>0.2083</td>\n",
              "      <td>2</td>\n",
              "      <td>3</td>\n",
              "      <td>7</td>\n",
              "      <td>0.2083</td>\n",
              "      <td>4</td>\n",
              "      <td>4</td>\n",
              "      <td>0.0000</td>\n",
              "    </tr>\n",
              "    <tr>\n",
              "      <th>1</th>\n",
              "      <td>1</td>\n",
              "      <td>662</td>\n",
              "      <td>15</td>\n",
              "      <td>9</td>\n",
              "      <td>0</td>\n",
              "      <td>3</td>\n",
              "      <td>1.0</td>\n",
              "      <td>3</td>\n",
              "      <td>14</td>\n",
              "      <td>14</td>\n",
              "      <td>...</td>\n",
              "      <td>1.0</td>\n",
              "      <td>0.8000</td>\n",
              "      <td>0.0000</td>\n",
              "      <td>0</td>\n",
              "      <td>0</td>\n",
              "      <td>0</td>\n",
              "      <td>1.0000</td>\n",
              "      <td>12</td>\n",
              "      <td>0</td>\n",
              "      <td>1.0000</td>\n",
              "    </tr>\n",
              "    <tr>\n",
              "      <th>2</th>\n",
              "      <td>1</td>\n",
              "      <td>805</td>\n",
              "      <td>0</td>\n",
              "      <td>0</td>\n",
              "      <td>0</td>\n",
              "      <td>1</td>\n",
              "      <td>5.0</td>\n",
              "      <td>1</td>\n",
              "      <td>354</td>\n",
              "      <td>7</td>\n",
              "      <td>...</td>\n",
              "      <td>5.0</td>\n",
              "      <td>0.3552</td>\n",
              "      <td>0.6538</td>\n",
              "      <td>0</td>\n",
              "      <td>1</td>\n",
              "      <td>1</td>\n",
              "      <td>0.7308</td>\n",
              "      <td>1</td>\n",
              "      <td>1</td>\n",
              "      <td>0.5263</td>\n",
              "    </tr>\n",
              "    <tr>\n",
              "      <th>3</th>\n",
              "      <td>1</td>\n",
              "      <td>1175</td>\n",
              "      <td>8</td>\n",
              "      <td>5</td>\n",
              "      <td>0</td>\n",
              "      <td>6</td>\n",
              "      <td>1.0</td>\n",
              "      <td>10</td>\n",
              "      <td>16</td>\n",
              "      <td>4</td>\n",
              "      <td>...</td>\n",
              "      <td>3.0</td>\n",
              "      <td>0.9127</td>\n",
              "      <td>0.2500</td>\n",
              "      <td>1</td>\n",
              "      <td>1</td>\n",
              "      <td>1</td>\n",
              "      <td>0.7500</td>\n",
              "      <td>7</td>\n",
              "      <td>1</td>\n",
              "      <td>1.3333</td>\n",
              "    </tr>\n",
              "    <tr>\n",
              "      <th>4</th>\n",
              "      <td>1</td>\n",
              "      <td>1373</td>\n",
              "      <td>3</td>\n",
              "      <td>1</td>\n",
              "      <td>0</td>\n",
              "      <td>9</td>\n",
              "      <td>0.0</td>\n",
              "      <td>8</td>\n",
              "      <td>130</td>\n",
              "      <td>52</td>\n",
              "      <td>...</td>\n",
              "      <td>1.0</td>\n",
              "      <td>1.2511</td>\n",
              "      <td>0.0000</td>\n",
              "      <td>0</td>\n",
              "      <td>1</td>\n",
              "      <td>4</td>\n",
              "      <td>0.1429</td>\n",
              "      <td>3</td>\n",
              "      <td>1</td>\n",
              "      <td>0.0000</td>\n",
              "    </tr>\n",
              "  </tbody>\n",
              "</table>\n",
              "<p>5 rows × 30 columns</p>\n",
              "</div>\n",
              "      <button class=\"colab-df-convert\" onclick=\"convertToInteractive('df-682bc59b-d9e8-4037-b484-87ac46afb72e')\"\n",
              "              title=\"Convert this dataframe to an interactive table.\"\n",
              "              style=\"display:none;\">\n",
              "        \n",
              "  <svg xmlns=\"http://www.w3.org/2000/svg\" height=\"24px\"viewBox=\"0 0 24 24\"\n",
              "       width=\"24px\">\n",
              "    <path d=\"M0 0h24v24H0V0z\" fill=\"none\"/>\n",
              "    <path d=\"M18.56 5.44l.94 2.06.94-2.06 2.06-.94-2.06-.94-.94-2.06-.94 2.06-2.06.94zm-11 1L8.5 8.5l.94-2.06 2.06-.94-2.06-.94L8.5 2.5l-.94 2.06-2.06.94zm10 10l.94 2.06.94-2.06 2.06-.94-2.06-.94-.94-2.06-.94 2.06-2.06.94z\"/><path d=\"M17.41 7.96l-1.37-1.37c-.4-.4-.92-.59-1.43-.59-.52 0-1.04.2-1.43.59L10.3 9.45l-7.72 7.72c-.78.78-.78 2.05 0 2.83L4 21.41c.39.39.9.59 1.41.59.51 0 1.02-.2 1.41-.59l7.78-7.78 2.81-2.81c.8-.78.8-2.07 0-2.86zM5.41 20L4 18.59l7.72-7.72 1.47 1.35L5.41 20z\"/>\n",
              "  </svg>\n",
              "      </button>\n",
              "      \n",
              "  <style>\n",
              "    .colab-df-container {\n",
              "      display:flex;\n",
              "      flex-wrap:wrap;\n",
              "      gap: 12px;\n",
              "    }\n",
              "\n",
              "    .colab-df-convert {\n",
              "      background-color: #E8F0FE;\n",
              "      border: none;\n",
              "      border-radius: 50%;\n",
              "      cursor: pointer;\n",
              "      display: none;\n",
              "      fill: #1967D2;\n",
              "      height: 32px;\n",
              "      padding: 0 0 0 0;\n",
              "      width: 32px;\n",
              "    }\n",
              "\n",
              "    .colab-df-convert:hover {\n",
              "      background-color: #E2EBFA;\n",
              "      box-shadow: 0px 1px 2px rgba(60, 64, 67, 0.3), 0px 1px 3px 1px rgba(60, 64, 67, 0.15);\n",
              "      fill: #174EA6;\n",
              "    }\n",
              "\n",
              "    [theme=dark] .colab-df-convert {\n",
              "      background-color: #3B4455;\n",
              "      fill: #D2E3FC;\n",
              "    }\n",
              "\n",
              "    [theme=dark] .colab-df-convert:hover {\n",
              "      background-color: #434B5C;\n",
              "      box-shadow: 0px 1px 3px 1px rgba(0, 0, 0, 0.15);\n",
              "      filter: drop-shadow(0px 1px 2px rgba(0, 0, 0, 0.3));\n",
              "      fill: #FFFFFF;\n",
              "    }\n",
              "  </style>\n",
              "\n",
              "      <script>\n",
              "        const buttonEl =\n",
              "          document.querySelector('#df-682bc59b-d9e8-4037-b484-87ac46afb72e button.colab-df-convert');\n",
              "        buttonEl.style.display =\n",
              "          google.colab.kernel.accessAllowed ? 'block' : 'none';\n",
              "\n",
              "        async function convertToInteractive(key) {\n",
              "          const element = document.querySelector('#df-682bc59b-d9e8-4037-b484-87ac46afb72e');\n",
              "          const dataTable =\n",
              "            await google.colab.kernel.invokeFunction('convertToInteractive',\n",
              "                                                     [key], {});\n",
              "          if (!dataTable) return;\n",
              "\n",
              "          const docLinkHtml = 'Like what you see? Visit the ' +\n",
              "            '<a target=\"_blank\" href=https://colab.research.google.com/notebooks/data_table.ipynb>data table notebook</a>'\n",
              "            + ' to learn more about interactive tables.';\n",
              "          element.innerHTML = '';\n",
              "          dataTable['output_type'] = 'display_data';\n",
              "          await google.colab.output.renderOutput(dataTable, element);\n",
              "          const docLink = document.createElement('div');\n",
              "          docLink.innerHTML = docLinkHtml;\n",
              "          element.appendChild(docLink);\n",
              "        }\n",
              "      </script>\n",
              "    </div>\n",
              "  </div>\n",
              "  "
            ]
          },
          "metadata": {},
          "execution_count": 22
        }
      ]
    },
    {
      "cell_type": "code",
      "source": [
        "# Find missing values\n",
        "miss_value = df.isnull().sum()\n",
        "missing_values = miss_value[miss_value>0]\n",
        "print(missing_values)\n",
        "df[missing_values.index].head()"
      ],
      "metadata": {
        "colab": {
          "base_uri": "https://localhost:8080/",
          "height": 414
        },
        "id": "YdIJlwXuVdZe",
        "outputId": "1f8327bf-40d6-46d4-8b1e-53d35db705b9"
      },
      "execution_count": 23,
      "outputs": [
        {
          "output_type": "stream",
          "name": "stdout",
          "text": [
            "InqTimeLast    188\n",
            "TLCnt            3\n",
            "TLSum           40\n",
            "TLMaxSum        40\n",
            "TLSatCnt         4\n",
            "TL75UtilCnt     99\n",
            "TL50UtilCnt     99\n",
            "TLBalHCPct      41\n",
            "TLSatPct         4\n",
            "TLOpenPct        3\n",
            "TLOpen24Pct      3\n",
            "dtype: int64\n"
          ]
        },
        {
          "output_type": "execute_result",
          "data": {
            "text/plain": [
              "   InqTimeLast  TLCnt    TLSum  TLMaxSum  TLSatCnt  TL75UtilCnt  TL50UtilCnt  \\\n",
              "0          0.0    5.0  19410.0   21147.0      16.0          3.0          3.0   \n",
              "1          1.0    1.0  16776.0   20971.0       1.0          1.0          1.0   \n",
              "2          5.0   19.0  16903.0   47593.0      21.0          4.0          5.0   \n",
              "3          1.0    3.0  18339.0   20093.0       1.0          2.0          3.0   \n",
              "4          0.0    1.0   2327.0    1860.0       3.0          1.0          1.0   \n",
              "\n",
              "   TLBalHCPct  TLSatPct  TLOpenPct  TLOpen24Pct  \n",
              "0      0.9179    0.2083     0.2083       0.0000  \n",
              "1      0.8000    0.0000     1.0000       1.0000  \n",
              "2      0.3552    0.6538     0.7308       0.5263  \n",
              "3      0.9127    0.2500     0.7500       1.3333  \n",
              "4      1.2511    0.0000     0.1429       0.0000  "
            ],
            "text/html": [
              "\n",
              "  <div id=\"df-9b3d1342-1a07-4e50-9479-5fb7b6b0b5ec\">\n",
              "    <div class=\"colab-df-container\">\n",
              "      <div>\n",
              "<style scoped>\n",
              "    .dataframe tbody tr th:only-of-type {\n",
              "        vertical-align: middle;\n",
              "    }\n",
              "\n",
              "    .dataframe tbody tr th {\n",
              "        vertical-align: top;\n",
              "    }\n",
              "\n",
              "    .dataframe thead th {\n",
              "        text-align: right;\n",
              "    }\n",
              "</style>\n",
              "<table border=\"1\" class=\"dataframe\">\n",
              "  <thead>\n",
              "    <tr style=\"text-align: right;\">\n",
              "      <th></th>\n",
              "      <th>InqTimeLast</th>\n",
              "      <th>TLCnt</th>\n",
              "      <th>TLSum</th>\n",
              "      <th>TLMaxSum</th>\n",
              "      <th>TLSatCnt</th>\n",
              "      <th>TL75UtilCnt</th>\n",
              "      <th>TL50UtilCnt</th>\n",
              "      <th>TLBalHCPct</th>\n",
              "      <th>TLSatPct</th>\n",
              "      <th>TLOpenPct</th>\n",
              "      <th>TLOpen24Pct</th>\n",
              "    </tr>\n",
              "  </thead>\n",
              "  <tbody>\n",
              "    <tr>\n",
              "      <th>0</th>\n",
              "      <td>0.0</td>\n",
              "      <td>5.0</td>\n",
              "      <td>19410.0</td>\n",
              "      <td>21147.0</td>\n",
              "      <td>16.0</td>\n",
              "      <td>3.0</td>\n",
              "      <td>3.0</td>\n",
              "      <td>0.9179</td>\n",
              "      <td>0.2083</td>\n",
              "      <td>0.2083</td>\n",
              "      <td>0.0000</td>\n",
              "    </tr>\n",
              "    <tr>\n",
              "      <th>1</th>\n",
              "      <td>1.0</td>\n",
              "      <td>1.0</td>\n",
              "      <td>16776.0</td>\n",
              "      <td>20971.0</td>\n",
              "      <td>1.0</td>\n",
              "      <td>1.0</td>\n",
              "      <td>1.0</td>\n",
              "      <td>0.8000</td>\n",
              "      <td>0.0000</td>\n",
              "      <td>1.0000</td>\n",
              "      <td>1.0000</td>\n",
              "    </tr>\n",
              "    <tr>\n",
              "      <th>2</th>\n",
              "      <td>5.0</td>\n",
              "      <td>19.0</td>\n",
              "      <td>16903.0</td>\n",
              "      <td>47593.0</td>\n",
              "      <td>21.0</td>\n",
              "      <td>4.0</td>\n",
              "      <td>5.0</td>\n",
              "      <td>0.3552</td>\n",
              "      <td>0.6538</td>\n",
              "      <td>0.7308</td>\n",
              "      <td>0.5263</td>\n",
              "    </tr>\n",
              "    <tr>\n",
              "      <th>3</th>\n",
              "      <td>1.0</td>\n",
              "      <td>3.0</td>\n",
              "      <td>18339.0</td>\n",
              "      <td>20093.0</td>\n",
              "      <td>1.0</td>\n",
              "      <td>2.0</td>\n",
              "      <td>3.0</td>\n",
              "      <td>0.9127</td>\n",
              "      <td>0.2500</td>\n",
              "      <td>0.7500</td>\n",
              "      <td>1.3333</td>\n",
              "    </tr>\n",
              "    <tr>\n",
              "      <th>4</th>\n",
              "      <td>0.0</td>\n",
              "      <td>1.0</td>\n",
              "      <td>2327.0</td>\n",
              "      <td>1860.0</td>\n",
              "      <td>3.0</td>\n",
              "      <td>1.0</td>\n",
              "      <td>1.0</td>\n",
              "      <td>1.2511</td>\n",
              "      <td>0.0000</td>\n",
              "      <td>0.1429</td>\n",
              "      <td>0.0000</td>\n",
              "    </tr>\n",
              "  </tbody>\n",
              "</table>\n",
              "</div>\n",
              "      <button class=\"colab-df-convert\" onclick=\"convertToInteractive('df-9b3d1342-1a07-4e50-9479-5fb7b6b0b5ec')\"\n",
              "              title=\"Convert this dataframe to an interactive table.\"\n",
              "              style=\"display:none;\">\n",
              "        \n",
              "  <svg xmlns=\"http://www.w3.org/2000/svg\" height=\"24px\"viewBox=\"0 0 24 24\"\n",
              "       width=\"24px\">\n",
              "    <path d=\"M0 0h24v24H0V0z\" fill=\"none\"/>\n",
              "    <path d=\"M18.56 5.44l.94 2.06.94-2.06 2.06-.94-2.06-.94-.94-2.06-.94 2.06-2.06.94zm-11 1L8.5 8.5l.94-2.06 2.06-.94-2.06-.94L8.5 2.5l-.94 2.06-2.06.94zm10 10l.94 2.06.94-2.06 2.06-.94-2.06-.94-.94-2.06-.94 2.06-2.06.94z\"/><path d=\"M17.41 7.96l-1.37-1.37c-.4-.4-.92-.59-1.43-.59-.52 0-1.04.2-1.43.59L10.3 9.45l-7.72 7.72c-.78.78-.78 2.05 0 2.83L4 21.41c.39.39.9.59 1.41.59.51 0 1.02-.2 1.41-.59l7.78-7.78 2.81-2.81c.8-.78.8-2.07 0-2.86zM5.41 20L4 18.59l7.72-7.72 1.47 1.35L5.41 20z\"/>\n",
              "  </svg>\n",
              "      </button>\n",
              "      \n",
              "  <style>\n",
              "    .colab-df-container {\n",
              "      display:flex;\n",
              "      flex-wrap:wrap;\n",
              "      gap: 12px;\n",
              "    }\n",
              "\n",
              "    .colab-df-convert {\n",
              "      background-color: #E8F0FE;\n",
              "      border: none;\n",
              "      border-radius: 50%;\n",
              "      cursor: pointer;\n",
              "      display: none;\n",
              "      fill: #1967D2;\n",
              "      height: 32px;\n",
              "      padding: 0 0 0 0;\n",
              "      width: 32px;\n",
              "    }\n",
              "\n",
              "    .colab-df-convert:hover {\n",
              "      background-color: #E2EBFA;\n",
              "      box-shadow: 0px 1px 2px rgba(60, 64, 67, 0.3), 0px 1px 3px 1px rgba(60, 64, 67, 0.15);\n",
              "      fill: #174EA6;\n",
              "    }\n",
              "\n",
              "    [theme=dark] .colab-df-convert {\n",
              "      background-color: #3B4455;\n",
              "      fill: #D2E3FC;\n",
              "    }\n",
              "\n",
              "    [theme=dark] .colab-df-convert:hover {\n",
              "      background-color: #434B5C;\n",
              "      box-shadow: 0px 1px 3px 1px rgba(0, 0, 0, 0.15);\n",
              "      filter: drop-shadow(0px 1px 2px rgba(0, 0, 0, 0.3));\n",
              "      fill: #FFFFFF;\n",
              "    }\n",
              "  </style>\n",
              "\n",
              "      <script>\n",
              "        const buttonEl =\n",
              "          document.querySelector('#df-9b3d1342-1a07-4e50-9479-5fb7b6b0b5ec button.colab-df-convert');\n",
              "        buttonEl.style.display =\n",
              "          google.colab.kernel.accessAllowed ? 'block' : 'none';\n",
              "\n",
              "        async function convertToInteractive(key) {\n",
              "          const element = document.querySelector('#df-9b3d1342-1a07-4e50-9479-5fb7b6b0b5ec');\n",
              "          const dataTable =\n",
              "            await google.colab.kernel.invokeFunction('convertToInteractive',\n",
              "                                                     [key], {});\n",
              "          if (!dataTable) return;\n",
              "\n",
              "          const docLinkHtml = 'Like what you see? Visit the ' +\n",
              "            '<a target=\"_blank\" href=https://colab.research.google.com/notebooks/data_table.ipynb>data table notebook</a>'\n",
              "            + ' to learn more about interactive tables.';\n",
              "          element.innerHTML = '';\n",
              "          dataTable['output_type'] = 'display_data';\n",
              "          await google.colab.output.renderOutput(dataTable, element);\n",
              "          const docLink = document.createElement('div');\n",
              "          docLink.innerHTML = docLinkHtml;\n",
              "          element.appendChild(docLink);\n",
              "        }\n",
              "      </script>\n",
              "    </div>\n",
              "  </div>\n",
              "  "
            ]
          },
          "metadata": {},
          "execution_count": 23
        }
      ]
    },
    {
      "cell_type": "code",
      "source": [
        "# Based on show data. InqTimeLast, TLCnt, TLSum, TLMaxSum, TLSatCnt, TL75UtilCnt, and TL50UtilCnt have integer values. And other variables have float values\n",
        "# For handling missing value, replace them using mean for float values and mean with absolute number for integer values.\n",
        "count_integer_column = 7 \n",
        "for x in missing_values.index :\n",
        "  if count_integer_column == 0:\n",
        "    df[x] = df[x].fillna(df[x].mean())\n",
        "  else :\n",
        "    df[x] = df[x].fillna(round(df[x].mean()))\n",
        "    count_integer_column -= 1"
      ],
      "metadata": {
        "id": "ArfHCeDoltii"
      },
      "execution_count": 24,
      "outputs": []
    },
    {
      "cell_type": "code",
      "source": [
        "# Check missing values again\n",
        "df.isnull().sum()"
      ],
      "metadata": {
        "colab": {
          "base_uri": "https://localhost:8080/"
        },
        "id": "mcfJi_hQmA-K",
        "outputId": "9d20e403-01f9-4996-8970-589e9c98157c"
      },
      "execution_count": 25,
      "outputs": [
        {
          "output_type": "execute_result",
          "data": {
            "text/plain": [
              "TARGET             0\n",
              "ID                 0\n",
              "DerogCnt           0\n",
              "CollectCnt         0\n",
              "BanruptcyInd       0\n",
              "InqCnt06           0\n",
              "InqTimeLast        0\n",
              "InqFinanceCnt24    0\n",
              "TLTimeFirst        0\n",
              "TLTimeLast         0\n",
              "TLCnt03            0\n",
              "TLCnt12            0\n",
              "TLCnt24            0\n",
              "TLCnt              0\n",
              "TLSum              0\n",
              "TLMaxSum           0\n",
              "TLSatCnt           0\n",
              "TLDel60Cnt         0\n",
              "TLBadCnt24         0\n",
              "TL75UtilCnt        0\n",
              "TL50UtilCnt        0\n",
              "TLBalHCPct         0\n",
              "TLSatPct           0\n",
              "TLDel3060Cnt24     0\n",
              "TLDel90Cnt24       0\n",
              "TLDel60CntAll      0\n",
              "TLOpenPct          0\n",
              "TLBadDerogCnt      0\n",
              "TLDel60Cnt24       0\n",
              "TLOpen24Pct        0\n",
              "dtype: int64"
            ]
          },
          "metadata": {},
          "execution_count": 25
        }
      ]
    },
    {
      "cell_type": "code",
      "source": [
        "# Check distribution of TARGET\n",
        "df[\"TARGET\"].value_counts()"
      ],
      "metadata": {
        "colab": {
          "base_uri": "https://localhost:8080/"
        },
        "id": "U1twOjFKqlgs",
        "outputId": "8f341d10-edc4-476a-8335-7235140d8842"
      },
      "execution_count": 26,
      "outputs": [
        {
          "output_type": "execute_result",
          "data": {
            "text/plain": [
              "0    2500\n",
              "1     500\n",
              "Name: TARGET, dtype: int64"
            ]
          },
          "metadata": {},
          "execution_count": 26
        }
      ]
    },
    {
      "cell_type": "code",
      "source": [
        "# the data have unbalanced sample, need resampling with combination of oversampling and undersampling\n",
        "# find combination\n",
        "X = df.iloc[:,1:]\n",
        "y = df.iloc[:,0]\n",
        "over_values = [0.3,0.4,0.5]\n",
        "under_values = [0.7,0.6,0.5]\n",
        "for o in over_values:\n",
        "  for u in under_values:\n",
        "    # define pipeline\n",
        "    model = SVC()\n",
        "    over = SMOTE(sampling_strategy=o)\n",
        "    under = RandomUnderSampler(sampling_strategy=u)\n",
        "    steps = [('over', over), ('under', under), ('model', model)]\n",
        "    pipeline = Pipeline(steps=steps)\n",
        "    # evaluate pipeline\n",
        "    scores = cross_val_score(pipeline, X, y, scoring='roc_auc', cv=5, n_jobs=-1)\n",
        "    score = mean(scores)\n",
        "    print('SMOTE oversampling rate:%.1f, Random undersampling rate:%.1f , Mean ROC AUC: %.3f' % (o, u, score))"
      ],
      "metadata": {
        "colab": {
          "base_uri": "https://localhost:8080/"
        },
        "id": "Tjsp2xfTrpfd",
        "outputId": "dd974294-a372-4b19-b828-5c971afba736"
      },
      "execution_count": 32,
      "outputs": [
        {
          "output_type": "stream",
          "name": "stdout",
          "text": [
            "SMOTE oversampling rate:0.3, Random undersampling rate:0.7 , Mean ROC AUC: 0.574\n",
            "SMOTE oversampling rate:0.3, Random undersampling rate:0.6 , Mean ROC AUC: 0.567\n",
            "SMOTE oversampling rate:0.3, Random undersampling rate:0.5 , Mean ROC AUC: 0.555\n",
            "SMOTE oversampling rate:0.4, Random undersampling rate:0.7 , Mean ROC AUC: 0.565\n",
            "SMOTE oversampling rate:0.4, Random undersampling rate:0.6 , Mean ROC AUC: 0.573\n",
            "SMOTE oversampling rate:0.4, Random undersampling rate:0.5 , Mean ROC AUC: 0.537\n",
            "SMOTE oversampling rate:0.5, Random undersampling rate:0.7 , Mean ROC AUC: 0.575\n",
            "SMOTE oversampling rate:0.5, Random undersampling rate:0.6 , Mean ROC AUC: 0.558\n",
            "SMOTE oversampling rate:0.5, Random undersampling rate:0.5 , Mean ROC AUC: 0.538\n"
          ]
        }
      ]
    },
    {
      "cell_type": "code",
      "source": [
        "# Take oversampling rate : 0.5 and undersampling rate : 0.7 with max ROC AUC : 0.575\n",
        "over = SMOTE(sampling_strategy=0.5)\n",
        "under = RandomUnderSampler(sampling_strategy=0.7)\n",
        "print(y.value_counts())\n",
        "X, y = over.fit_resample(X, y)\n",
        "print(y.value_counts())\n",
        "X, y = under.fit_resample(X, y)\n",
        "print(y.value_counts())"
      ],
      "metadata": {
        "colab": {
          "base_uri": "https://localhost:8080/"
        },
        "id": "5at0eYQqzQqQ",
        "outputId": "da65b7c7-3b90-4a07-cf56-d5d68668574f"
      },
      "execution_count": 33,
      "outputs": [
        {
          "output_type": "stream",
          "name": "stdout",
          "text": [
            "0    2500\n",
            "1     500\n",
            "Name: TARGET, dtype: int64\n",
            "0    2500\n",
            "1    1250\n",
            "Name: TARGET, dtype: int64\n",
            "0    1785\n",
            "1    1250\n",
            "Name: TARGET, dtype: int64\n"
          ]
        }
      ]
    },
    {
      "cell_type": "code",
      "source": [
        "# Split data to train and test with ratio 8:2\n",
        "X_train, X_test, y_train, y_test = train_test_split(X, y, shuffle = True, test_size=0.2, random_state=1)"
      ],
      "metadata": {
        "id": "oLFVGht1zRVj"
      },
      "execution_count": 44,
      "outputs": []
    },
    {
      "cell_type": "code",
      "source": [
        "sc = StandardScaler()\n",
        "X_train_std = sc.fit_transform(X_train)\n",
        "X_test_std = sc.transform(X_test)"
      ],
      "metadata": {
        "id": "agj2twb01xkL"
      },
      "execution_count": 63,
      "outputs": []
    },
    {
      "cell_type": "code",
      "source": [
        "# Building model \n",
        "DTC_model = DecisionTreeClassifier(random_state=0)\n",
        "DTC_model.fit(X_train_std, y_train)\n",
        "RanFor_model = RandomForestClassifier()\n",
        "RanFor_model.fit(X_train_std, y_train)\n",
        "XGB_model = XGBClassifier()\n",
        "XGB_model.fit(X_train_std, y_train)\n",
        "KNN_model = KNeighborsClassifier(n_neighbors=5)\n",
        "KNN_model.fit(X_train_std, y_train)\n",
        "SVM_model = SVC()\n",
        "SVM_model.fit(X_train_std, y_train)"
      ],
      "metadata": {
        "colab": {
          "base_uri": "https://localhost:8080/",
          "height": 74
        },
        "id": "1eW26BA6AdyA",
        "outputId": "d940bad2-0c25-4b58-ca4f-151a45ca3fa3"
      },
      "execution_count": 70,
      "outputs": [
        {
          "output_type": "execute_result",
          "data": {
            "text/plain": [
              "SVC()"
            ],
            "text/html": [
              "<style>#sk-container-id-6 {color: black;background-color: white;}#sk-container-id-6 pre{padding: 0;}#sk-container-id-6 div.sk-toggleable {background-color: white;}#sk-container-id-6 label.sk-toggleable__label {cursor: pointer;display: block;width: 100%;margin-bottom: 0;padding: 0.3em;box-sizing: border-box;text-align: center;}#sk-container-id-6 label.sk-toggleable__label-arrow:before {content: \"▸\";float: left;margin-right: 0.25em;color: #696969;}#sk-container-id-6 label.sk-toggleable__label-arrow:hover:before {color: black;}#sk-container-id-6 div.sk-estimator:hover label.sk-toggleable__label-arrow:before {color: black;}#sk-container-id-6 div.sk-toggleable__content {max-height: 0;max-width: 0;overflow: hidden;text-align: left;background-color: #f0f8ff;}#sk-container-id-6 div.sk-toggleable__content pre {margin: 0.2em;color: black;border-radius: 0.25em;background-color: #f0f8ff;}#sk-container-id-6 input.sk-toggleable__control:checked~div.sk-toggleable__content {max-height: 200px;max-width: 100%;overflow: auto;}#sk-container-id-6 input.sk-toggleable__control:checked~label.sk-toggleable__label-arrow:before {content: \"▾\";}#sk-container-id-6 div.sk-estimator input.sk-toggleable__control:checked~label.sk-toggleable__label {background-color: #d4ebff;}#sk-container-id-6 div.sk-label input.sk-toggleable__control:checked~label.sk-toggleable__label {background-color: #d4ebff;}#sk-container-id-6 input.sk-hidden--visually {border: 0;clip: rect(1px 1px 1px 1px);clip: rect(1px, 1px, 1px, 1px);height: 1px;margin: -1px;overflow: hidden;padding: 0;position: absolute;width: 1px;}#sk-container-id-6 div.sk-estimator {font-family: monospace;background-color: #f0f8ff;border: 1px dotted black;border-radius: 0.25em;box-sizing: border-box;margin-bottom: 0.5em;}#sk-container-id-6 div.sk-estimator:hover {background-color: #d4ebff;}#sk-container-id-6 div.sk-parallel-item::after {content: \"\";width: 100%;border-bottom: 1px solid gray;flex-grow: 1;}#sk-container-id-6 div.sk-label:hover label.sk-toggleable__label {background-color: #d4ebff;}#sk-container-id-6 div.sk-serial::before {content: \"\";position: absolute;border-left: 1px solid gray;box-sizing: border-box;top: 0;bottom: 0;left: 50%;z-index: 0;}#sk-container-id-6 div.sk-serial {display: flex;flex-direction: column;align-items: center;background-color: white;padding-right: 0.2em;padding-left: 0.2em;position: relative;}#sk-container-id-6 div.sk-item {position: relative;z-index: 1;}#sk-container-id-6 div.sk-parallel {display: flex;align-items: stretch;justify-content: center;background-color: white;position: relative;}#sk-container-id-6 div.sk-item::before, #sk-container-id-6 div.sk-parallel-item::before {content: \"\";position: absolute;border-left: 1px solid gray;box-sizing: border-box;top: 0;bottom: 0;left: 50%;z-index: -1;}#sk-container-id-6 div.sk-parallel-item {display: flex;flex-direction: column;z-index: 1;position: relative;background-color: white;}#sk-container-id-6 div.sk-parallel-item:first-child::after {align-self: flex-end;width: 50%;}#sk-container-id-6 div.sk-parallel-item:last-child::after {align-self: flex-start;width: 50%;}#sk-container-id-6 div.sk-parallel-item:only-child::after {width: 0;}#sk-container-id-6 div.sk-dashed-wrapped {border: 1px dashed gray;margin: 0 0.4em 0.5em 0.4em;box-sizing: border-box;padding-bottom: 0.4em;background-color: white;}#sk-container-id-6 div.sk-label label {font-family: monospace;font-weight: bold;display: inline-block;line-height: 1.2em;}#sk-container-id-6 div.sk-label-container {text-align: center;}#sk-container-id-6 div.sk-container {/* jupyter's `normalize.less` sets `[hidden] { display: none; }` but bootstrap.min.css set `[hidden] { display: none !important; }` so we also need the `!important` here to be able to override the default hidden behavior on the sphinx rendered scikit-learn.org. See: https://github.com/scikit-learn/scikit-learn/issues/21755 */display: inline-block !important;position: relative;}#sk-container-id-6 div.sk-text-repr-fallback {display: none;}</style><div id=\"sk-container-id-6\" class=\"sk-top-container\"><div class=\"sk-text-repr-fallback\"><pre>SVC()</pre><b>In a Jupyter environment, please rerun this cell to show the HTML representation or trust the notebook. <br />On GitHub, the HTML representation is unable to render, please try loading this page with nbviewer.org.</b></div><div class=\"sk-container\" hidden><div class=\"sk-item\"><div class=\"sk-estimator sk-toggleable\"><input class=\"sk-toggleable__control sk-hidden--visually\" id=\"sk-estimator-id-6\" type=\"checkbox\" checked><label for=\"sk-estimator-id-6\" class=\"sk-toggleable__label sk-toggleable__label-arrow\">SVC</label><div class=\"sk-toggleable__content\"><pre>SVC()</pre></div></div></div></div></div>"
            ]
          },
          "metadata": {},
          "execution_count": 70
        }
      ]
    },
    {
      "cell_type": "code",
      "source": [
        "# Make prediction\n",
        "DTC_prediction = DTC_model.predict(X_test_std)\n",
        "RanFor_prediction = RanFor_model.predict(X_test_std)\n",
        "XGB_prediction = XGB_model.predict(X_test_std)\n",
        "KNN_prediction = KNN_model.predict(X_test_std)\n",
        "SVM_prediction = SVM_model.predict(X_test_std)\n",
        "\n",
        "# Evaluation Model\n",
        "DTC_eval = classification_report(DTC_prediction, y_test, output_dict=True)\n",
        "RanFor_eval = classification_report(RanFor_prediction, y_test, output_dict=True)\n",
        "XGB_eval = classification_report(XGB_prediction, y_test, output_dict=True)\n",
        "KNN_eval = classification_report(KNN_prediction, y_test, output_dict=True)\n",
        "SVM_eval = classification_report(SVM_prediction, y_test, output_dict=True)"
      ],
      "metadata": {
        "id": "CZYJDcB_DEtC"
      },
      "execution_count": 71,
      "outputs": []
    },
    {
      "cell_type": "code",
      "source": [
        "# Intitialize figure\n",
        "fig, ax1 = plt.subplots()\n",
        "fig.suptitle('Model Comparison', fontsize=16, fontweight='bold')\n",
        "fig.set_figheight(7)\n",
        "fig.set_figwidth(14)\n",
        "fig.set_facecolor('white')\n",
        "\n",
        "# set bar size\n",
        "barWidth = 0.15\n",
        "DTC_score = [DTC_eval['accuracy'], DTC_eval['macro avg']['precision'], DTC_eval['macro avg']['recall'], DTC_eval['macro avg']['f1-score']]\n",
        "RanFor_score = [RanFor_eval['accuracy'], RanFor_eval['macro avg']['precision'], RanFor_eval['macro avg']['recall'], RanFor_eval['macro avg']['f1-score']]\n",
        "XGB_score = [XGB_eval['accuracy'], XGB_eval['macro avg']['precision'], XGB_eval['macro avg']['recall'], XGB_eval['macro avg']['f1-score']]\n",
        "KNN_score = [KNN_eval['accuracy'], KNN_eval['macro avg']['precision'], KNN_eval['macro avg']['recall'], KNN_eval['macro avg']['f1-score']]\n",
        "SVM_score = [SVM_eval['accuracy'], SVM_eval['macro avg']['precision'], SVM_eval['macro avg']['recall'], SVM_eval['macro avg']['f1-score']]\n",
        "\n",
        "# Set position of bar on X axis\n",
        "r1 = np.arange(len(DTC_score))\n",
        "r2 = [x + barWidth for x in r1]\n",
        "r3 = [x + barWidth for x in r2]\n",
        "r4 = [x + barWidth for x in r3]\n",
        "r5 = [x + barWidth for x in r4]\n",
        "\n",
        "# Make the plot\n",
        "ax1.bar(r1, DTC_score, width=barWidth, edgecolor='white', label='Decision Tree')\n",
        "ax1.bar(r2, RanFor_score, width=barWidth, edgecolor='white', label='Random Forest')\n",
        "ax1.bar(r3, XGB_score, width=barWidth, edgecolor='white', label='Extra Gradient Boosting')\n",
        "ax1.bar(r4, KNN_score, width=barWidth, edgecolor='white', label='K-Nearest Neighbors')\n",
        "ax1.bar(r5, SVM_score, width=barWidth, edgecolor='white', label='Support Vector Machine')\n",
        "\n",
        "# Configure x and y axis\n",
        "ax1.set_xlabel('Metrics', fontweight='bold')\n",
        "labels = ['Accuracy', 'Precision', 'Recall', 'F1']\n",
        "ax1.set_xticks([r + (barWidth * 2) for r in range(len(DTC_score))], )\n",
        "ax1.set_xticklabels(labels)\n",
        "ax1.set_ylabel('Score', fontweight='bold')\n",
        "ax1.set_ylim(0, 1)\n",
        "\n",
        "# Create legend & title\n",
        "ax1.set_title('Evaluation Metrics', fontsize=14, fontweight='bold')\n",
        "ax1.legend(loc='upper center',ncol=5)\n",
        "\n",
        "plt.show()"
      ],
      "metadata": {
        "colab": {
          "base_uri": "https://localhost:8080/",
          "height": 664
        },
        "id": "vkcQAWJfkLmE",
        "outputId": "89559700-2bd2-4920-e954-2ac795df530c"
      },
      "execution_count": 72,
      "outputs": [
        {
          "output_type": "display_data",
          "data": {
            "text/plain": [
              "<Figure size 1400x700 with 1 Axes>"
            ],
            "image/png": "[encoded data removed]"
          },
          "metadata": {}
        }
      ]
    },
    {
      "cell_type": "code",
      "source": [
        "# Extra Gradient Boosting Classifier is right choice to solve this problem because this model have high metric\n",
        "\n",
        "# Create the parameter grid based on the results of random search \n",
        "param_grid = {\n",
        "    'max_depth': np.arange(40,100,step=20),\n",
        "    'max_features': np.arange(2,10),\n",
        "    'min_samples_leaf': np.arange(2,10),\n",
        "    'min_samples_split': np.arange(6,13,step=2),\n",
        "    'n_estimators': np.arange(100,1000,step=100)\n",
        "}\n",
        "\n",
        "# Create a base model\n",
        "xgb_grids = XGBClassifier(random_state=0)\n",
        "\n",
        "# Initiate the grid search model\n",
        "grid_search = RandomizedSearchCV(xgb_grids, param_distributions=param_grid, scoring='recall',cv=5, n_jobs=-1, verbose=2)\n",
        "\n",
        "# Fit the grid search to the data\n",
        "grid_search.fit(X_train, y_train)\n",
        "\n",
        "grid_search.best_params_"
      ],
      "metadata": {
        "id": "05tzf9dJCUBO",
        "colab": {
          "base_uri": "https://localhost:8080/"
        },
        "outputId": "e7fb3c64-571b-417c-c148-159e538ff74e"
      },
      "execution_count": 73,
      "outputs": [
        {
          "output_type": "stream",
          "name": "stdout",
          "text": [
            "Fitting 5 folds for each of 10 candidates, totalling 50 fits\n",
            "[10:58:27] WARNING: ../src/learner.cc:767: \n",
            "Parameters: { \"max_features\", \"min_samples_leaf\", \"min_samples_split\" } are not used.\n",
            "\n"
          ]
        },
        {
          "output_type": "execute_result",
          "data": {
            "text/plain": [
              "{'n_estimators': 600,\n",
              " 'min_samples_split': 8,\n",
              " 'min_samples_leaf': 2,\n",
              " 'max_features': 7,\n",
              " 'max_depth': 40}"
            ]
          },
          "metadata": {},
          "execution_count": 73
        }
      ]
    },
    {
      "cell_type": "code",
      "source": [
        "grid_search_prediction = grid_search.predict(X_test)\n",
        "grid_search_eval = classification_report(grid_search_prediction, y_test, output_dict=True)"
      ],
      "metadata": {
        "id": "dqVKh2f-V8gN"
      },
      "execution_count": 74,
      "outputs": []
    },
    {
      "cell_type": "code",
      "source": [
        "# Intitialize figure with two plots\n",
        "fig, ax = plt.subplots()\n",
        "fig.suptitle('Model Comparison', fontsize=16, fontweight='bold')\n",
        "fig.set_figheight(7)\n",
        "fig.set_figwidth(11)\n",
        "fig.set_facecolor('white')\n",
        "\n",
        "# First plot\n",
        "## set bar size\n",
        "barWidth = 0.2\n",
        "XGB_score = [XGB_eval['accuracy'], XGB_eval['macro avg']['precision'], XGB_eval['macro avg']['recall'], XGB_eval['macro avg']['f1-score']]\n",
        "grid_search_score = [grid_search_eval['accuracy'], grid_search_eval['macro avg']['precision'], grid_search_eval['macro avg']['recall'], grid_search_eval['macro avg']['f1-score']]\n",
        "\n",
        "## Set position of bar on X axis\n",
        "r1 = np.arange(len(XGB_score))\n",
        "r2 = [x + barWidth for x in r1]\n",
        "\n",
        "## Make the plot\n",
        "ax.bar(r1, XGB_score, width=barWidth, edgecolor='white', label='Extra Gradient Boosting (Original)')\n",
        "ax.bar(r2, grid_search_score, width=barWidth, edgecolor='white', label='Extra Gradient Boosting (Optimization)')\n",
        "\n",
        "## Configure x and y axis\n",
        "ax.set_xlabel('Metrics', fontweight='bold')\n",
        "labels = ['Accuracy', 'Precision', 'Recall', 'F1']\n",
        "ax.set_xticks([r + (barWidth * 0.5) for r in range(len(RanFor_score))], )\n",
        "ax.set_xticklabels(labels)\n",
        "ax.set_ylabel('Score', fontweight='bold')\n",
        "ax.set_ylim(0, 1)\n",
        "\n",
        "## Create legend & title\n",
        "ax.set_title('Evaluation Metrics', fontsize=14, fontweight='bold')\n",
        "ax.legend(loc='upper center',ncol=2)\n",
        "\n",
        "plt.show()"
      ],
      "metadata": {
        "colab": {
          "base_uri": "https://localhost:8080/",
          "height": 689
        },
        "id": "F233Pkj1pWCX",
        "outputId": "847b5f0f-e31c-44d5-b761-d569609b2cc6"
      },
      "execution_count": 77,
      "outputs": [
        {
          "output_type": "display_data",
          "data": {
            "text/plain": [
              "<Figure size 1100x700 with 1 Axes>"
            ],
            "image/png": "[encoded data removed]"
          },
          "metadata": {}
        }
      ]
    },
    {
      "cell_type": "code",
      "source": [
        "# We can see Extra Gradient Boosting (Optimization) is good model than Original\n",
        "result = grid_search.score(X_test, y_test)\n",
        "print(result)"
      ],
      "metadata": {
        "id": "_FfO-K9elmDG",
        "colab": {
          "base_uri": "https://localhost:8080/"
        },
        "outputId": "c6680de5-01d0-4136-a624-55baa2a593ac"
      },
      "execution_count": 78,
      "outputs": [
        {
          "output_type": "stream",
          "name": "stdout",
          "text": [
            "0.8048780487804879\n"
          ]
        }
      ]
    },
    {
      "cell_type": "code",
      "source": [],
      "metadata": {
        "id": "FkX3wBaDKh86"
      },
      "execution_count": null,
      "outputs": []
    }
  ]
}