{
  "cells": [
    {
      "cell_type": "code",
      "execution_count": null,
      "metadata": {
        "colab": {
          "base_uri": "https://localhost:8080/"
        },
        "id": "N3O33hnwzprk",
        "outputId": "19c15707-a01a-48bf-ed82-9a226eef0747"
      },
      "outputs": [
        {
          "output_type": "stream",
          "name": "stdout",
          "text": [
            "Looking in indexes: https://pypi.org/simple, https://us-python.pkg.dev/colab-wheels/public/simple/\n",
            "Collecting wget\n",
            "  Downloading wget-3.2.zip (10 kB)\n",
            "  Preparing metadata (setup.py) ... \u001b[?25l\u001b[?25hdone\n",
            "Building wheels for collected packages: wget\n",
            "  Building wheel for wget (setup.py) ... \u001b[?25l\u001b[?25hdone\n",
            "  Created wheel for wget: filename=wget-3.2-py3-none-any.whl size=9676 sha256=d0df6657d5d927bdbdea4edcbd8a175b893ed7317fa137db32b8a8cc71a0f3be\n",
            "  Stored in directory: /root/.cache/pip/wheels/8b/f1/7f/5c94f0a7a505ca1c81cd1d9208ae2064675d97582078e6c769\n",
            "Successfully built wget\n",
            "Installing collected packages: wget\n",
            "Successfully installed wget-3.2\n",
            "Looking in indexes: https://pypi.org/simple, https://us-python.pkg.dev/colab-wheels/public/simple/\n",
            "\u001b[31mERROR: Could not find a version that satisfies the requirement shutil (from versions: none)\u001b[0m\u001b[31m\n",
            "\u001b[0m\u001b[31mERROR: No matching distribution found for shutil\u001b[0m\u001b[31m\n",
            "\u001b[0mLooking in indexes: https://pypi.org/simple, https://us-python.pkg.dev/colab-wheels/public/simple/\n",
            "Collecting split-folders\n",
            "  Downloading split_folders-0.5.1-py3-none-any.whl (8.4 kB)\n",
            "Installing collected packages: split-folders\n",
            "Successfully installed split-folders-0.5.1\n"
          ]
        }
      ],
      "source": [
        "import pandas as pd\n",
        "import numpy as np\n",
        "import matplotlib.pyplot as plt\n",
        "import tensorflow as tf\n",
        "import matplotlib.image as mpimg\n",
        "import seaborn as sns\n",
        "import sys\n",
        "!{sys.executable} -m pip install wget\n",
        "!{sys.executable} -m pip install shutil\n",
        "!{sys.executable} -m pip install split-folders\n",
        "\n",
        "import splitfolders\n",
        "\n",
        "import os\n",
        "from shutil import unpack_archive\n",
        "from shutil import rmtree\n",
        "pd.set_option(\"display.max_columns\", 101)\n",
        "\n",
        "from tensorflow.keras.preprocessing.image import ImageDataGenerator\n",
        "from tensorflow.keras.optimizers import Adam"
      ]
    },
    {
      "cell_type": "code",
      "execution_count": null,
      "metadata": {
        "colab": {
          "base_uri": "https://localhost:8080/"
        },
        "id": "PhTuHbNBLmVV",
        "outputId": "707afab1-256d-44b0-c36f-3ae98f14c941"
      },
      "outputs": [
        {
          "output_type": "stream",
          "name": "stdout",
          "text": [
            "--2022-11-04 07:26:41--  https://docs.google.com/uc?export=download&confirm=t&id=1b4DZIS7VfBI_V8-DbpsaCP0ij8u1K3hJ\n",
            "Resolving docs.google.com (docs.google.com)... 74.125.69.138, 74.125.69.139, 74.125.69.113, ...\n",
            "Connecting to docs.google.com (docs.google.com)|74.125.69.138|:443... connected.\n",
            "HTTP request sent, awaiting response... 303 See Other\n",
            "Location: https://doc-00-90-docs.googleusercontent.com/docs/securesc/ha0ro937gcuc7l7deffksulhg5h7mbp1/868su6sd55v4cf241touvbld8o045o8l/1667546775000/11309364930090306574/*/1b4DZIS7VfBI_V8-DbpsaCP0ij8u1K3hJ?e=download&uuid=085093af-e23d-4ed7-b09b-1dedd3aef15b [following]\n",
            "Warning: wildcards not supported in HTTP.\n",
            "--2022-11-04 07:26:41--  https://doc-00-90-docs.googleusercontent.com/docs/securesc/ha0ro937gcuc7l7deffksulhg5h7mbp1/868su6sd55v4cf241touvbld8o045o8l/1667546775000/11309364930090306574/*/1b4DZIS7VfBI_V8-DbpsaCP0ij8u1K3hJ?e=download&uuid=085093af-e23d-4ed7-b09b-1dedd3aef15b\n",
            "Resolving doc-00-90-docs.googleusercontent.com (doc-00-90-docs.googleusercontent.com)... 142.250.136.132, 2607:f8b0:4001:c34::84\n",
            "Connecting to doc-00-90-docs.googleusercontent.com (doc-00-90-docs.googleusercontent.com)|142.250.136.132|:443... connected.\n",
            "HTTP request sent, awaiting response... 200 OK\n",
            "Length: 62282324 (59M) [application/x-zip-compressed]\n",
            "Saving to: ‘dataset.zip’\n",
            "\n",
            "dataset.zip         100%[===================>]  59.40M   157MB/s    in 0.4s    \n",
            "\n",
            "2022-11-04 07:26:41 (157 MB/s) - ‘dataset.zip’ saved [62282324/62282324]\n",
            "\n"
          ]
        }
      ],
      "source": [
        "# Download dan extract dataset\n",
        "\n",
        "!wget --load-cookies /tmp/cookies.txt \"https://docs.google.com/uc?export=download&confirm=$(wget --quiet --save-cookies /tmp/cookies.txt --keep-session-cookies --no-check-certificate 'https://docs.google.com/uc?export=download&id=1b4DZIS7VfBI_V8-DbpsaCP0ij8u1K3hJ' -O- | sed -rn 's/.*confirm=([0-9A-Za-z_]+).*/\\1\\n/p')&id=1b4DZIS7VfBI_V8-DbpsaCP0ij8u1K3hJ\" -O dataset.zip && rm -rf /tmp/cookies.txt\n",
        "\n",
        "unpack_archive('dataset.zip', '')\n",
        "\n",
        "os.remove('dataset.zip')"
      ]
    },
    {
      "cell_type": "code",
      "source": [
        "# split validation folder to validation and test with ratio 6:4\n",
        "\n",
        "output = \"split-folders\"\n",
        "splitfolders.ratio(\"validation\", output=output, ratio=(.6,.4))\n",
        "\n",
        "os.chdir('split-folders')\n",
        "os.rename('train','validation')\n",
        "os.rename('val','test')\n",
        "\n",
        "os.chdir('/content')\n",
        "rmtree('validation')"
      ],
      "metadata": {
        "colab": {
          "base_uri": "https://localhost:8080/"
        },
        "id": "2d7Wwvv9XnX2",
        "outputId": "d0b0ff3d-a7b2-4a59-882e-f75cfa66a2b7"
      },
      "execution_count": null,
      "outputs": [
        {
          "output_type": "stream",
          "name": "stderr",
          "text": [
            "Copying files: 7066 files [00:00, 7539.48 files/s]\n"
          ]
        }
      ]
    },
    {
      "cell_type": "code",
      "execution_count": null,
      "metadata": {
        "colab": {
          "base_uri": "https://localhost:8080/"
        },
        "id": "lqJMTvKizwQw",
        "outputId": "f5967cb1-1208-42a0-9a5f-6be121280488"
      },
      "outputs": [
        {
          "output_type": "stream",
          "name": "stdout",
          "text": [
            "['angry', 'fear', 'neutral', 'happy', 'surprise', 'sad', 'disgust']\n"
          ]
        }
      ],
      "source": [
        "# get label\n",
        "label = os.listdir('train')\n",
        "print(label)"
      ]
    },
    {
      "cell_type": "code",
      "execution_count": null,
      "metadata": {
        "colab": {
          "base_uri": "https://localhost:8080/"
        },
        "id": "T526KBxe9GOP",
        "outputId": "c8cfdf45-96c7-40e8-e0fb-05eea990ead0"
      },
      "outputs": [
        {
          "output_type": "stream",
          "name": "stdout",
          "text": [
            "[['angry', 3993], ['fear', 4103], ['neutral', 4982], ['happy', 7164], ['surprise', 3205], ['sad', 4938], ['disgust', 436]]\n"
          ]
        }
      ],
      "source": [
        "data_label = []\n",
        "for nama_label in label:\n",
        "    jumlah = len(os.listdir(os.path.join('train', nama_label)))\n",
        "    #print(jumlah)\n",
        "    detail_label = [nama_label, jumlah]\n",
        "    data_label.append(detail_label)\n",
        "\n",
        "print(data_label)"
      ]
    },
    {
      "cell_type": "code",
      "execution_count": null,
      "metadata": {
        "colab": {
          "base_uri": "https://localhost:8080/",
          "height": 269
        },
        "id": "37xW2HQR9Mz2",
        "outputId": "04fd21f5-1ad3-4abd-b687-10bd4e5d215b"
      },
      "outputs": [
        {
          "output_type": "execute_result",
          "data": {
            "text/plain": [
              "   Ekspresi  Jumlah\n",
              "0     angry    3993\n",
              "1      fear    4103\n",
              "2   neutral    4982\n",
              "3     happy    7164\n",
              "4  surprise    3205\n",
              "5       sad    4938\n",
              "6   disgust     436"
            ],
            "text/html": [
              "\n",
              "  <div id=\"df-3e4fc459-1d8f-47fe-a3e9-1a97ff904e2d\">\n",
              "    <div class=\"colab-df-container\">\n",
              "      <div>\n",
              "<style scoped>\n",
              "    .dataframe tbody tr th:only-of-type {\n",
              "        vertical-align: middle;\n",
              "    }\n",
              "\n",
              "    .dataframe tbody tr th {\n",
              "        vertical-align: top;\n",
              "    }\n",
              "\n",
              "    .dataframe thead th {\n",
              "        text-align: right;\n",
              "    }\n",
              "</style>\n",
              "<table border=\"1\" class=\"dataframe\">\n",
              "  <thead>\n",
              "    <tr style=\"text-align: right;\">\n",
              "      <th></th>\n",
              "      <th>Ekspresi</th>\n",
              "      <th>Jumlah</th>\n",
              "    </tr>\n",
              "  </thead>\n",
              "  <tbody>\n",
              "    <tr>\n",
              "      <th>0</th>\n",
              "      <td>angry</td>\n",
              "      <td>3993</td>\n",
              "    </tr>\n",
              "    <tr>\n",
              "      <th>1</th>\n",
              "      <td>fear</td>\n",
              "      <td>4103</td>\n",
              "    </tr>\n",
              "    <tr>\n",
              "      <th>2</th>\n",
              "      <td>neutral</td>\n",
              "      <td>4982</td>\n",
              "    </tr>\n",
              "    <tr>\n",
              "      <th>3</th>\n",
              "      <td>happy</td>\n",
              "      <td>7164</td>\n",
              "    </tr>\n",
              "    <tr>\n",
              "      <th>4</th>\n",
              "      <td>surprise</td>\n",
              "      <td>3205</td>\n",
              "    </tr>\n",
              "    <tr>\n",
              "      <th>5</th>\n",
              "      <td>sad</td>\n",
              "      <td>4938</td>\n",
              "    </tr>\n",
              "    <tr>\n",
              "      <th>6</th>\n",
              "      <td>disgust</td>\n",
              "      <td>436</td>\n",
              "    </tr>\n",
              "  </tbody>\n",
              "</table>\n",
              "</div>\n",
              "      <button class=\"colab-df-convert\" onclick=\"convertToInteractive('df-3e4fc459-1d8f-47fe-a3e9-1a97ff904e2d')\"\n",
              "              title=\"Convert this dataframe to an interactive table.\"\n",
              "              style=\"display:none;\">\n",
              "        \n",
              "  <svg xmlns=\"http://www.w3.org/2000/svg\" height=\"24px\"viewBox=\"0 0 24 24\"\n",
              "       width=\"24px\">\n",
              "    <path d=\"M0 0h24v24H0V0z\" fill=\"none\"/>\n",
              "    <path d=\"M18.56 5.44l.94 2.06.94-2.06 2.06-.94-2.06-.94-.94-2.06-.94 2.06-2.06.94zm-11 1L8.5 8.5l.94-2.06 2.06-.94-2.06-.94L8.5 2.5l-.94 2.06-2.06.94zm10 10l.94 2.06.94-2.06 2.06-.94-2.06-.94-.94-2.06-.94 2.06-2.06.94z\"/><path d=\"M17.41 7.96l-1.37-1.37c-.4-.4-.92-.59-1.43-.59-.52 0-1.04.2-1.43.59L10.3 9.45l-7.72 7.72c-.78.78-.78 2.05 0 2.83L4 21.41c.39.39.9.59 1.41.59.51 0 1.02-.2 1.41-.59l7.78-7.78 2.81-2.81c.8-.78.8-2.07 0-2.86zM5.41 20L4 18.59l7.72-7.72 1.47 1.35L5.41 20z\"/>\n",
              "  </svg>\n",
              "      </button>\n",
              "      \n",
              "  <style>\n",
              "    .colab-df-container {\n",
              "      display:flex;\n",
              "      flex-wrap:wrap;\n",
              "      gap: 12px;\n",
              "    }\n",
              "\n",
              "    .colab-df-convert {\n",
              "      background-color: #E8F0FE;\n",
              "      border: none;\n",
              "      border-radius: 50%;\n",
              "      cursor: pointer;\n",
              "      display: none;\n",
              "      fill: #1967D2;\n",
              "      height: 32px;\n",
              "      padding: 0 0 0 0;\n",
              "      width: 32px;\n",
              "    }\n",
              "\n",
              "    .colab-df-convert:hover {\n",
              "      background-color: #E2EBFA;\n",
              "      box-shadow: 0px 1px 2px rgba(60, 64, 67, 0.3), 0px 1px 3px 1px rgba(60, 64, 67, 0.15);\n",
              "      fill: #174EA6;\n",
              "    }\n",
              "\n",
              "    [theme=dark] .colab-df-convert {\n",
              "      background-color: #3B4455;\n",
              "      fill: #D2E3FC;\n",
              "    }\n",
              "\n",
              "    [theme=dark] .colab-df-convert:hover {\n",
              "      background-color: #434B5C;\n",
              "      box-shadow: 0px 1px 3px 1px rgba(0, 0, 0, 0.15);\n",
              "      filter: drop-shadow(0px 1px 2px rgba(0, 0, 0, 0.3));\n",
              "      fill: #FFFFFF;\n",
              "    }\n",
              "  </style>\n",
              "\n",
              "      <script>\n",
              "        const buttonEl =\n",
              "          document.querySelector('#df-3e4fc459-1d8f-47fe-a3e9-1a97ff904e2d button.colab-df-convert');\n",
              "        buttonEl.style.display =\n",
              "          google.colab.kernel.accessAllowed ? 'block' : 'none';\n",
              "\n",
              "        async function convertToInteractive(key) {\n",
              "          const element = document.querySelector('#df-3e4fc459-1d8f-47fe-a3e9-1a97ff904e2d');\n",
              "          const dataTable =\n",
              "            await google.colab.kernel.invokeFunction('convertToInteractive',\n",
              "                                                     [key], {});\n",
              "          if (!dataTable) return;\n",
              "\n",
              "          const docLinkHtml = 'Like what you see? Visit the ' +\n",
              "            '<a target=\"_blank\" href=https://colab.research.google.com/notebooks/data_table.ipynb>data table notebook</a>'\n",
              "            + ' to learn more about interactive tables.';\n",
              "          element.innerHTML = '';\n",
              "          dataTable['output_type'] = 'display_data';\n",
              "          await google.colab.output.renderOutput(dataTable, element);\n",
              "          const docLink = document.createElement('div');\n",
              "          docLink.innerHTML = docLinkHtml;\n",
              "          element.appendChild(docLink);\n",
              "        }\n",
              "      </script>\n",
              "    </div>\n",
              "  </div>\n",
              "  "
            ]
          },
          "metadata": {},
          "execution_count": 6
        }
      ],
      "source": [
        "df_label = pd.DataFrame(data_label)\n",
        "df_label.columns = ['Ekspresi', 'Jumlah']\n",
        "df_label"
      ]
    },
    {
      "cell_type": "code",
      "execution_count": null,
      "metadata": {
        "colab": {
          "base_uri": "https://localhost:8080/",
          "height": 353
        },
        "id": "z3vue9vngYxj",
        "outputId": "46f57e03-e4d3-41bc-f361-adf39029d482"
      },
      "outputs": [
        {
          "output_type": "stream",
          "name": "stderr",
          "text": [
            "/usr/local/lib/python3.7/dist-packages/seaborn/_decorators.py:43: FutureWarning: Pass the following variables as keyword args: x, y. From version 0.12, the only valid positional argument will be `data`, and passing other arguments without an explicit keyword will result in an error or misinterpretation.\n",
            "  FutureWarning\n"
          ]
        },
        {
          "output_type": "display_data",
          "data": {
            "text/plain": [
              "<Figure size 432x288 with 1 Axes>"
            ],
            "image/png": "[encoded data removed]"
          },
          "metadata": {
            "needs_background": "light"
          }
        }
      ],
      "source": [
        "plt.figure(figsize=(6,4))\n",
        "sns.barplot(df_label.Ekspresi, df_label.Jumlah)\n",
        "plt.title('Class distribution')\n",
        "plt.ylabel('Jumlah', fontsize=12)\n",
        "plt.xlabel('Ekspresi', fontsize=12)\n",
        "plt.show()"
      ]
    },
    {
      "cell_type": "code",
      "execution_count": null,
      "metadata": {
        "colab": {
          "base_uri": "https://localhost:8080/"
        },
        "id": "vxh1N_I925AG",
        "outputId": "46578ce2-7df4-46fc-89d4-3254abe2c879"
      },
      "outputs": [
        {
          "output_type": "stream",
          "name": "stdout",
          "text": [
            "jumlah data training sebanyak 28821\n",
            "jumlah data validaiton sebanyak 4237\n",
            "jumlah data test sebanyak 2829\n"
          ]
        }
      ],
      "source": [
        "# Jumlah data training\n",
        "\n",
        "jumlah_training = 0\n",
        "jumlah_validation = 0 \n",
        "jumlah_testing = 0\n",
        "for nama_label in label:\n",
        "    jumlah_train = len(os.listdir(os.path.join('train', nama_label)))\n",
        "    jumlah_val = len(os.listdir(os.path.join('split-folders/validation', nama_label)))\n",
        "    jumlah_test = len(os.listdir(os.path.join('split-folders/test', nama_label)))\n",
        "    jumlah_training += jumlah_train\n",
        "    jumlah_validation += jumlah_val\n",
        "    jumlah_testing += jumlah_test\n",
        "\n",
        "print('jumlah data training sebanyak', jumlah_training)\n",
        "print('jumlah data validaiton sebanyak', jumlah_validation)\n",
        "print('jumlah data test sebanyak', jumlah_testing)"
      ]
    },
    {
      "cell_type": "code",
      "execution_count": null,
      "metadata": {
        "colab": {
          "base_uri": "https://localhost:8080/",
          "height": 554
        },
        "id": "FNb9GeDigeZr",
        "outputId": "91efb563-3fd9-4436-f7f8-761512237ce1"
      },
      "outputs": [
        {
          "output_type": "display_data",
          "data": {
            "text/plain": [
              "<Figure size 1152x720 with 7 Axes>"
            ],
            "image/png": "[encoded data removed]"
          },
          "metadata": {
            "needs_background": "light"
          }
        }
      ],
      "source": [
        "def gambarWajah(gambar, jenis_ekpresi, path):\n",
        "    #pixels, emotion = row['pixels'], emotion_map[row['emotion']]\n",
        "    #img = np.array(pixels.split())\n",
        "    gambar_dir = os.path.join(path, jenis_ekpresi)\n",
        "    gambar_path = os.path.join(gambar_dir, gambar)\n",
        "    img = mpimg.imread(gambar_path)\n",
        "    img = img.reshape(48,48)\n",
        "    image = np.zeros((48,48,3))\n",
        "    image[:,:,0] = img\n",
        "    image[:,:,1] = img\n",
        "    image[:,:,2] = img\n",
        "    return np.array([image.astype(np.uint8), jenis_ekpresi], dtype=object)\n",
        "\n",
        "plt.figure(0, figsize=(16,10))\n",
        "i = 1;\n",
        "for nama_ekspresi in label:\n",
        "    #print(nama_ekspresi)\n",
        "    gambar_dir = os.path.join('train', nama_ekspresi)\n",
        "    list_gambar_ekspresi = os.listdir(gambar_dir)\n",
        "    nama_gambar = list_gambar_ekspresi[0]\n",
        "    img = gambarWajah(nama_gambar, nama_ekspresi, 'train')\n",
        "    plt.subplot(2,4,i)\n",
        "    plt.imshow(img[0])\n",
        "    plt.title(img[1])\n",
        "    i+=1\n",
        "\n",
        "plt.show()  "
      ]
    },
    {
      "cell_type": "code",
      "execution_count": null,
      "metadata": {
        "id": "AYspHTghA8IR"
      },
      "outputs": [],
      "source": [
        "#initilize parameters\n",
        "jumlah_epochs = 200\n",
        "ukuran_batch = 64"
      ]
    },
    {
      "cell_type": "code",
      "execution_count": null,
      "metadata": {
        "id": "L8M5Rc3BgoFB"
      },
      "outputs": [],
      "source": [
        "# Image Data Generator\n",
        "train_datagen = ImageDataGenerator(\n",
        "      rotation_range = 10,\n",
        "      width_shift_range = 0.1,\n",
        "      height_shift_range = 0.1,\n",
        "      zoom_range = 0.1,\n",
        "      horizontal_flip = True,\n",
        "      fill_mode = 'nearest'\n",
        ")\n",
        "validation_datagen = ImageDataGenerator()"
      ]
    },
    {
      "cell_type": "code",
      "execution_count": null,
      "metadata": {
        "colab": {
          "base_uri": "https://localhost:8080/"
        },
        "id": "SgtX3bXes79N",
        "outputId": "bcef4be2-00b7-4bb0-b0c7-671cbc9ef425"
      },
      "outputs": [
        {
          "output_type": "stream",
          "name": "stdout",
          "text": [
            "Found 28821 images belonging to 7 classes.\n",
            "Found 4237 images belonging to 7 classes.\n"
          ]
        }
      ],
      "source": [
        "# Preprocess Data Biasa\n",
        "\n",
        "train_generator = train_datagen.flow_from_directory(\n",
        "    \"train/\",\n",
        "    target_size=(48,48),\n",
        "    batch_size = ukuran_batch,\n",
        "    color_mode = 'grayscale',\n",
        "    class_mode = \"categorical\"\n",
        ")\n",
        "\n",
        "validation_generator = validation_datagen.flow_from_directory(\n",
        "    \"split-folders/validation/\",\n",
        "    target_size=(48,48),\n",
        "    batch_size = ukuran_batch,\n",
        "    color_mode = 'grayscale',\n",
        "    class_mode = \"categorical\"\n",
        ")"
      ]
    },
    {
      "cell_type": "code",
      "execution_count": null,
      "metadata": {
        "colab": {
          "base_uri": "https://localhost:8080/"
        },
        "id": "x4W-Vszz0B2i",
        "outputId": "517608a9-48f3-4ac4-fe85-a976394a341b"
      },
      "outputs": [
        {
          "output_type": "stream",
          "name": "stdout",
          "text": [
            "Model: \"sequential_3\"\n",
            "_________________________________________________________________\n",
            " Layer (type)                Output Shape              Param #   \n",
            "=================================================================\n",
            " zero_padding2d_42 (ZeroPadd  (None, 50, 50, 1)        0         \n",
            " ing2D)                                                          \n",
            "                                                                 \n",
            " conv2d_42 (Conv2D)          (None, 50, 50, 64)        640       \n",
            "                                                                 \n",
            " batch_normalization_51 (Bat  (None, 50, 50, 64)       256       \n",
            " chNormalization)                                                \n",
            "                                                                 \n",
            " activation_51 (Activation)  (None, 50, 50, 64)        0         \n",
            "                                                                 \n",
            " zero_padding2d_43 (ZeroPadd  (None, 52, 52, 64)       0         \n",
            " ing2D)                                                          \n",
            "                                                                 \n",
            " conv2d_43 (Conv2D)          (None, 52, 52, 64)        36928     \n",
            "                                                                 \n",
            " batch_normalization_52 (Bat  (None, 52, 52, 64)       256       \n",
            " chNormalization)                                                \n",
            "                                                                 \n",
            " activation_52 (Activation)  (None, 52, 52, 64)        0         \n",
            "                                                                 \n",
            " max_pooling2d_17 (MaxPoolin  (None, 26, 26, 64)       0         \n",
            " g2D)                                                            \n",
            "                                                                 \n",
            " dropout_26 (Dropout)        (None, 26, 26, 64)        0         \n",
            "                                                                 \n",
            " zero_padding2d_44 (ZeroPadd  (None, 28, 28, 64)       0         \n",
            " ing2D)                                                          \n",
            "                                                                 \n",
            " conv2d_44 (Conv2D)          (None, 28, 28, 128)       73856     \n",
            "                                                                 \n",
            " batch_normalization_53 (Bat  (None, 28, 28, 128)      512       \n",
            " chNormalization)                                                \n",
            "                                                                 \n",
            " activation_53 (Activation)  (None, 28, 28, 128)       0         \n",
            "                                                                 \n",
            " zero_padding2d_45 (ZeroPadd  (None, 30, 30, 128)      0         \n",
            " ing2D)                                                          \n",
            "                                                                 \n",
            " conv2d_45 (Conv2D)          (None, 30, 30, 128)       147584    \n",
            "                                                                 \n",
            " batch_normalization_54 (Bat  (None, 30, 30, 128)      512       \n",
            " chNormalization)                                                \n",
            "                                                                 \n",
            " activation_54 (Activation)  (None, 30, 30, 128)       0         \n",
            "                                                                 \n",
            " max_pooling2d_18 (MaxPoolin  (None, 15, 15, 128)      0         \n",
            " g2D)                                                            \n",
            "                                                                 \n",
            " dropout_27 (Dropout)        (None, 15, 15, 128)       0         \n",
            "                                                                 \n",
            " zero_padding2d_46 (ZeroPadd  (None, 17, 17, 128)      0         \n",
            " ing2D)                                                          \n",
            "                                                                 \n",
            " conv2d_46 (Conv2D)          (None, 17, 17, 256)       295168    \n",
            "                                                                 \n",
            " batch_normalization_55 (Bat  (None, 17, 17, 256)      1024      \n",
            " chNormalization)                                                \n",
            "                                                                 \n",
            " activation_55 (Activation)  (None, 17, 17, 256)       0         \n",
            "                                                                 \n",
            " zero_padding2d_47 (ZeroPadd  (None, 19, 19, 256)      0         \n",
            " ing2D)                                                          \n",
            "                                                                 \n",
            " conv2d_47 (Conv2D)          (None, 19, 19, 256)       590080    \n",
            "                                                                 \n",
            " batch_normalization_56 (Bat  (None, 19, 19, 256)      1024      \n",
            " chNormalization)                                                \n",
            "                                                                 \n",
            " activation_56 (Activation)  (None, 19, 19, 256)       0         \n",
            "                                                                 \n",
            " max_pooling2d_19 (MaxPoolin  (None, 9, 9, 256)        0         \n",
            " g2D)                                                            \n",
            "                                                                 \n",
            " dropout_28 (Dropout)        (None, 9, 9, 256)         0         \n",
            "                                                                 \n",
            " zero_padding2d_48 (ZeroPadd  (None, 11, 11, 256)      0         \n",
            " ing2D)                                                          \n",
            "                                                                 \n",
            " conv2d_48 (Conv2D)          (None, 11, 11, 512)       1180160   \n",
            "                                                                 \n",
            " batch_normalization_57 (Bat  (None, 11, 11, 512)      2048      \n",
            " chNormalization)                                                \n",
            "                                                                 \n",
            " activation_57 (Activation)  (None, 11, 11, 512)       0         \n",
            "                                                                 \n",
            " zero_padding2d_49 (ZeroPadd  (None, 13, 13, 512)      0         \n",
            " ing2D)                                                          \n",
            "                                                                 \n",
            " conv2d_49 (Conv2D)          (None, 13, 13, 512)       2359808   \n",
            "                                                                 \n",
            " batch_normalization_58 (Bat  (None, 13, 13, 512)      2048      \n",
            " chNormalization)                                                \n",
            "                                                                 \n",
            " activation_58 (Activation)  (None, 13, 13, 512)       0         \n",
            "                                                                 \n",
            " zero_padding2d_50 (ZeroPadd  (None, 15, 15, 512)      0         \n",
            " ing2D)                                                          \n",
            "                                                                 \n",
            " conv2d_50 (Conv2D)          (None, 15, 15, 512)       2359808   \n",
            "                                                                 \n",
            " batch_normalization_59 (Bat  (None, 15, 15, 512)      2048      \n",
            " chNormalization)                                                \n",
            "                                                                 \n",
            " activation_59 (Activation)  (None, 15, 15, 512)       0         \n",
            "                                                                 \n",
            " max_pooling2d_20 (MaxPoolin  (None, 7, 7, 512)        0         \n",
            " g2D)                                                            \n",
            "                                                                 \n",
            " dropout_29 (Dropout)        (None, 7, 7, 512)         0         \n",
            "                                                                 \n",
            " zero_padding2d_51 (ZeroPadd  (None, 9, 9, 512)        0         \n",
            " ing2D)                                                          \n",
            "                                                                 \n",
            " conv2d_51 (Conv2D)          (None, 9, 9, 512)         2359808   \n",
            "                                                                 \n",
            " batch_normalization_60 (Bat  (None, 9, 9, 512)        2048      \n",
            " chNormalization)                                                \n",
            "                                                                 \n",
            " activation_60 (Activation)  (None, 9, 9, 512)         0         \n",
            "                                                                 \n",
            " zero_padding2d_52 (ZeroPadd  (None, 11, 11, 512)      0         \n",
            " ing2D)                                                          \n",
            "                                                                 \n",
            " conv2d_52 (Conv2D)          (None, 11, 11, 512)       2359808   \n",
            "                                                                 \n",
            " batch_normalization_61 (Bat  (None, 11, 11, 512)      2048      \n",
            " chNormalization)                                                \n",
            "                                                                 \n",
            " activation_61 (Activation)  (None, 11, 11, 512)       0         \n",
            "                                                                 \n",
            " zero_padding2d_53 (ZeroPadd  (None, 13, 13, 512)      0         \n",
            " ing2D)                                                          \n",
            "                                                                 \n",
            " conv2d_53 (Conv2D)          (None, 13, 13, 512)       2359808   \n",
            "                                                                 \n",
            " batch_normalization_62 (Bat  (None, 13, 13, 512)      2048      \n",
            " chNormalization)                                                \n",
            "                                                                 \n",
            " activation_62 (Activation)  (None, 13, 13, 512)       0         \n",
            "                                                                 \n",
            " max_pooling2d_21 (MaxPoolin  (None, 6, 6, 512)        0         \n",
            " g2D)                                                            \n",
            "                                                                 \n",
            " dropout_30 (Dropout)        (None, 6, 6, 512)         0         \n",
            "                                                                 \n",
            " zero_padding2d_54 (ZeroPadd  (None, 8, 8, 512)        0         \n",
            " ing2D)                                                          \n",
            "                                                                 \n",
            " conv2d_54 (Conv2D)          (None, 8, 8, 512)         2359808   \n",
            "                                                                 \n",
            " batch_normalization_63 (Bat  (None, 8, 8, 512)        2048      \n",
            " chNormalization)                                                \n",
            "                                                                 \n",
            " activation_63 (Activation)  (None, 8, 8, 512)         0         \n",
            "                                                                 \n",
            " zero_padding2d_55 (ZeroPadd  (None, 10, 10, 512)      0         \n",
            " ing2D)                                                          \n",
            "                                                                 \n",
            " conv2d_55 (Conv2D)          (None, 10, 10, 512)       2359808   \n",
            "                                                                 \n",
            " batch_normalization_64 (Bat  (None, 10, 10, 512)      2048      \n",
            " chNormalization)                                                \n",
            "                                                                 \n",
            " activation_64 (Activation)  (None, 10, 10, 512)       0         \n",
            "                                                                 \n",
            " zero_padding2d_56 (ZeroPadd  (None, 12, 12, 512)      0         \n",
            " ing2D)                                                          \n",
            "                                                                 \n",
            " conv2d_56 (Conv2D)          (None, 12, 12, 512)       2359808   \n",
            "                                                                 \n",
            " batch_normalization_65 (Bat  (None, 12, 12, 512)      2048      \n",
            " chNormalization)                                                \n",
            "                                                                 \n",
            " activation_65 (Activation)  (None, 12, 12, 512)       0         \n",
            "                                                                 \n",
            " max_pooling2d_22 (MaxPoolin  (None, 6, 6, 512)        0         \n",
            " g2D)                                                            \n",
            "                                                                 \n",
            " dropout_31 (Dropout)        (None, 6, 6, 512)         0         \n",
            "                                                                 \n",
            " flatten_3 (Flatten)         (None, 18432)             0         \n",
            "                                                                 \n",
            " dense_12 (Dense)            (None, 4096)              75501568  \n",
            "                                                                 \n",
            " batch_normalization_66 (Bat  (None, 4096)             16384     \n",
            " chNormalization)                                                \n",
            "                                                                 \n",
            " activation_66 (Activation)  (None, 4096)              0         \n",
            "                                                                 \n",
            " dropout_32 (Dropout)        (None, 4096)              0         \n",
            "                                                                 \n",
            " dense_13 (Dense)            (None, 4096)              16781312  \n",
            "                                                                 \n",
            " batch_normalization_67 (Bat  (None, 4096)             16384     \n",
            " chNormalization)                                                \n",
            "                                                                 \n",
            " activation_67 (Activation)  (None, 4096)              0         \n",
            "                                                                 \n",
            " dropout_33 (Dropout)        (None, 4096)              0         \n",
            "                                                                 \n",
            " dense_14 (Dense)            (None, 2048)              8390656   \n",
            "                                                                 \n",
            " batch_normalization_68 (Bat  (None, 2048)             8192      \n",
            " chNormalization)                                                \n",
            "                                                                 \n",
            " activation_68 (Activation)  (None, 2048)              0         \n",
            "                                                                 \n",
            " dropout_34 (Dropout)        (None, 2048)              0         \n",
            "                                                                 \n",
            " dense_15 (Dense)            (None, 7)                 14343     \n",
            "                                                                 \n",
            "=================================================================\n",
            "Total params: 121,953,735\n",
            "Trainable params: 121,922,247\n",
            "Non-trainable params: 31,488\n",
            "_________________________________________________________________\n"
          ]
        }
      ],
      "source": [
        "model = tf.keras.models.Sequential([\n",
        "                                    tf.keras.layers.ZeroPadding2D((1,1), input_shape=(48,48,1)),\n",
        "                                    tf.keras.layers.Conv2D(64, (3,3), padding='same'),\n",
        "                                    tf.keras.layers.BatchNormalization(),\n",
        "                                    tf.keras.layers.Activation('relu'),\n",
        "                                    tf.keras.layers.ZeroPadding2D((1,1)),\n",
        "                                    tf.keras.layers.Conv2D(64, (3,3), padding='same'),\n",
        "                                    tf.keras.layers.BatchNormalization(),\n",
        "                                    tf.keras.layers.Activation('relu'),\n",
        "                                    tf.keras.layers.MaxPooling2D((2,2), strides=(2,2)),\n",
        "                                    tf.keras.layers.Dropout(0.2),\n",
        "\n",
        "                                    tf.keras.layers.ZeroPadding2D((1,1)),\n",
        "                                    tf.keras.layers.Conv2D(128, (3,3), padding='same'),\n",
        "                                    tf.keras.layers.BatchNormalization(),\n",
        "                                    tf.keras.layers.Activation('relu'),\n",
        "                                    tf.keras.layers.ZeroPadding2D((1,1)),\n",
        "                                    tf.keras.layers.Conv2D(128, (3,3), padding='same'),\n",
        "                                    tf.keras.layers.BatchNormalization(),\n",
        "                                    tf.keras.layers.Activation('relu'),\n",
        "                                    tf.keras.layers.MaxPooling2D((2,2), strides=(2,2)),\n",
        "                                    tf.keras.layers.Dropout(0.2),\n",
        "\n",
        "                                    tf.keras.layers.ZeroPadding2D((1,1)),\n",
        "                                    tf.keras.layers.Conv2D(256, (3,3), padding='same'),\n",
        "                                    tf.keras.layers.BatchNormalization(),\n",
        "                                    tf.keras.layers.Activation('relu'),\n",
        "                                    tf.keras.layers.ZeroPadding2D((1,1)),\n",
        "                                    tf.keras.layers.Conv2D(256, (3,3), padding='same'),\n",
        "                                    tf.keras.layers.BatchNormalization(),\n",
        "                                    tf.keras.layers.Activation('relu'),\n",
        "                                    tf.keras.layers.MaxPooling2D((2,2), strides=(2,2)),\n",
        "                                    tf.keras.layers.Dropout(0.2),\n",
        "                                    \n",
        "                                    tf.keras.layers.ZeroPadding2D((1,1)),\n",
        "                                    tf.keras.layers.Conv2D(512, (3,3), padding='same'),\n",
        "                                    tf.keras.layers.BatchNormalization(),\n",
        "                                    tf.keras.layers.Activation('relu'),\n",
        "                                    tf.keras.layers.ZeroPadding2D((1,1)),\n",
        "                                    tf.keras.layers.Conv2D(512, (3,3), padding='same'),\n",
        "                                    tf.keras.layers.BatchNormalization(),\n",
        "                                    tf.keras.layers.Activation('relu'),\n",
        "                                    tf.keras.layers.ZeroPadding2D((1,1)),\n",
        "                                    tf.keras.layers.Conv2D(512, (3,3), padding='same'),\n",
        "                                    tf.keras.layers.BatchNormalization(),\n",
        "                                    tf.keras.layers.Activation('relu'),\n",
        "                                    tf.keras.layers.MaxPooling2D((2,2), strides=(2,2)),\n",
        "                                    tf.keras.layers.Dropout(0.2),\n",
        "\n",
        "                                    tf.keras.layers.ZeroPadding2D((1,1)),\n",
        "                                    tf.keras.layers.Conv2D(512, (3,3), padding='same'),\n",
        "                                    tf.keras.layers.BatchNormalization(),\n",
        "                                    tf.keras.layers.Activation('relu'),\n",
        "                                    tf.keras.layers.ZeroPadding2D((1,1)),\n",
        "                                    tf.keras.layers.Conv2D(512, (3,3), padding='same'),\n",
        "                                    tf.keras.layers.BatchNormalization(),\n",
        "                                    tf.keras.layers.Activation('relu'),\n",
        "                                    tf.keras.layers.ZeroPadding2D((1,1)),\n",
        "                                    tf.keras.layers.Conv2D(512, (3,3), padding='same'),\n",
        "                                    tf.keras.layers.BatchNormalization(),\n",
        "                                    tf.keras.layers.Activation('relu'),\n",
        "                                    tf.keras.layers.MaxPooling2D((2,2), strides=(2,2)),\n",
        "                                    tf.keras.layers.Dropout(0.2),\n",
        "\n",
        "                                    tf.keras.layers.ZeroPadding2D((1,1)),\n",
        "                                    tf.keras.layers.Conv2D(512, (3,3), padding='same'),\n",
        "                                    tf.keras.layers.BatchNormalization(),\n",
        "                                    tf.keras.layers.Activation('relu'),\n",
        "                                    tf.keras.layers.ZeroPadding2D((1,1)),\n",
        "                                    tf.keras.layers.Conv2D(512, (3,3), padding='same'),\n",
        "                                    tf.keras.layers.BatchNormalization(),\n",
        "                                    tf.keras.layers.Activation('relu'),\n",
        "                                    tf.keras.layers.ZeroPadding2D((1,1)),\n",
        "                                    tf.keras.layers.Conv2D(512, (3,3), padding='same'),\n",
        "                                    tf.keras.layers.BatchNormalization(),\n",
        "                                    tf.keras.layers.Activation('relu'),\n",
        "                                    tf.keras.layers.MaxPooling2D((2,2), strides=(2,2)),\n",
        "                                    tf.keras.layers.Dropout(0.2),\n",
        "\n",
        "                                    tf.keras.layers.Flatten(),\n",
        "                                    tf.keras.layers.Dense(4096),\n",
        "                                    tf.keras.layers.BatchNormalization(),\n",
        "                                    tf.keras.layers.Activation('relu'),\n",
        "                                    tf.keras.layers.Dropout(0.2),\n",
        "                                    tf.keras.layers.Dense(4096),\n",
        "                                    tf.keras.layers.BatchNormalization(),\n",
        "                                    tf.keras.layers.Activation('relu'),\n",
        "                                    tf.keras.layers.Dropout(0.2),\n",
        "                                    tf.keras.layers.Dense(2048),\n",
        "                                    tf.keras.layers.BatchNormalization(),\n",
        "                                    tf.keras.layers.Activation('relu'),\n",
        "                                    tf.keras.layers.Dropout(0.2),\n",
        "                                    tf.keras.layers.Dense(7, activation=\"softmax\")\n",
        "])\n",
        "\n",
        "model.summary()"
      ]
    },
    {
      "cell_type": "code",
      "execution_count": null,
      "metadata": {
        "colab": {
          "base_uri": "https://localhost:8080/"
        },
        "id": "NWl9RxGT0La9",
        "outputId": "794264bb-936a-4649-84e8-3ff690476ade"
      },
      "outputs": [
        {
          "output_type": "stream",
          "name": "stderr",
          "text": [
            "/usr/local/lib/python3.7/dist-packages/keras/optimizer_v2/adam.py:105: UserWarning: The `lr` argument is deprecated, use `learning_rate` instead.\n",
            "  super(Adam, self).__init__(name, **kwargs)\n"
          ]
        }
      ],
      "source": [
        "# Compile model\n",
        "\n",
        "model.compile(optimizer=Adam(lr=0.0001), loss=\"categorical_crossentropy\", metrics = [\"accuracy\"])"
      ]
    },
    {
      "cell_type": "code",
      "execution_count": null,
      "metadata": {
        "colab": {
          "base_uri": "https://localhost:8080/"
        },
        "id": "80GtPHS70OQe",
        "outputId": "fc79f51a-34c3-41b9-a057-09f9ce38935b"
      },
      "outputs": [
        {
          "output_type": "stream",
          "name": "stdout",
          "text": [
            "Epoch 1/200\n",
            "450/450 [==============================] - 107s 227ms/step - loss: 2.0009 - accuracy: 0.2089 - val_loss: 1.8755 - val_accuracy: 0.2587\n",
            "Epoch 2/200\n",
            "450/450 [==============================] - 103s 228ms/step - loss: 1.8862 - accuracy: 0.2299 - val_loss: 1.8863 - val_accuracy: 0.2617\n",
            "Epoch 3/200\n",
            "450/450 [==============================] - 104s 232ms/step - loss: 1.8488 - accuracy: 0.2506 - val_loss: 1.8583 - val_accuracy: 0.2662\n",
            "Epoch 4/200\n",
            "450/450 [==============================] - 105s 233ms/step - loss: 1.8300 - accuracy: 0.2611 - val_loss: 1.8389 - val_accuracy: 0.2712\n",
            "Epoch 5/200\n",
            "450/450 [==============================] - 105s 233ms/step - loss: 1.7725 - accuracy: 0.3010 - val_loss: 2.8536 - val_accuracy: 0.2318\n",
            "Epoch 6/200\n",
            "450/450 [==============================] - 105s 234ms/step - loss: 1.6404 - accuracy: 0.3744 - val_loss: 1.6942 - val_accuracy: 0.4017\n",
            "Epoch 7/200\n",
            "450/450 [==============================] - 105s 233ms/step - loss: 1.5373 - accuracy: 0.4127 - val_loss: 2.7610 - val_accuracy: 0.3599\n",
            "Epoch 8/200\n",
            "450/450 [==============================] - 105s 234ms/step - loss: 1.4341 - accuracy: 0.4493 - val_loss: 1.5551 - val_accuracy: 0.4527\n",
            "Epoch 9/200\n",
            "450/450 [==============================] - 105s 233ms/step - loss: 1.3652 - accuracy: 0.4731 - val_loss: 8.3296 - val_accuracy: 0.1433\n",
            "Epoch 10/200\n",
            "450/450 [==============================] - 105s 234ms/step - loss: 1.3204 - accuracy: 0.4942 - val_loss: 1.2231 - val_accuracy: 0.5251\n",
            "Epoch 11/200\n",
            "450/450 [==============================] - 105s 233ms/step - loss: 1.2854 - accuracy: 0.5107 - val_loss: 1.2910 - val_accuracy: 0.4968\n",
            "Epoch 12/200\n",
            "450/450 [==============================] - 105s 233ms/step - loss: 1.2524 - accuracy: 0.5257 - val_loss: 1.4417 - val_accuracy: 0.4973\n",
            "Epoch 13/200\n",
            "450/450 [==============================] - 105s 234ms/step - loss: 1.2245 - accuracy: 0.5328 - val_loss: 1.2000 - val_accuracy: 0.5620\n",
            "Epoch 14/200\n",
            "450/450 [==============================] - 105s 234ms/step - loss: 1.1969 - accuracy: 0.5505 - val_loss: 1.1722 - val_accuracy: 0.5657\n",
            "Epoch 15/200\n",
            "450/450 [==============================] - 105s 233ms/step - loss: 1.1765 - accuracy: 0.5551 - val_loss: 1.1970 - val_accuracy: 0.5384\n",
            "Epoch 16/200\n",
            "450/450 [==============================] - 105s 234ms/step - loss: 1.1474 - accuracy: 0.5656 - val_loss: 1.0738 - val_accuracy: 0.6023\n",
            "Epoch 17/200\n",
            "450/450 [==============================] - 105s 233ms/step - loss: 1.1304 - accuracy: 0.5757 - val_loss: 1.0808 - val_accuracy: 0.5995\n",
            "Epoch 18/200\n",
            "450/450 [==============================] - 105s 233ms/step - loss: 1.1098 - accuracy: 0.5842 - val_loss: 1.2161 - val_accuracy: 0.5450\n",
            "Epoch 19/200\n",
            "450/450 [==============================] - 105s 233ms/step - loss: 1.0931 - accuracy: 0.5930 - val_loss: 1.0972 - val_accuracy: 0.5839\n",
            "Epoch 20/200\n",
            "450/450 [==============================] - 105s 233ms/step - loss: 1.0774 - accuracy: 0.5947 - val_loss: 1.0842 - val_accuracy: 0.6033\n",
            "Epoch 21/200\n",
            "450/450 [==============================] - 105s 234ms/step - loss: 1.0611 - accuracy: 0.6019 - val_loss: 1.0737 - val_accuracy: 0.5997\n",
            "Epoch 22/200\n",
            "450/450 [==============================] - 105s 233ms/step - loss: 1.0441 - accuracy: 0.6081 - val_loss: 1.1732 - val_accuracy: 0.5858\n",
            "Epoch 23/200\n",
            "450/450 [==============================] - 105s 234ms/step - loss: 1.0294 - accuracy: 0.6135 - val_loss: 1.0128 - val_accuracy: 0.6361\n",
            "Epoch 24/200\n",
            "450/450 [==============================] - 105s 233ms/step - loss: 1.0189 - accuracy: 0.6186 - val_loss: 1.0437 - val_accuracy: 0.6193\n",
            "Epoch 25/200\n",
            "450/450 [==============================] - 105s 233ms/step - loss: 1.0042 - accuracy: 0.6237 - val_loss: 1.0359 - val_accuracy: 0.6266\n",
            "Epoch 26/200\n",
            "450/450 [==============================] - 105s 234ms/step - loss: 1.0004 - accuracy: 0.6266 - val_loss: 0.9991 - val_accuracy: 0.6361\n",
            "Epoch 27/200\n",
            "450/450 [==============================] - 105s 233ms/step - loss: 0.9890 - accuracy: 0.6312 - val_loss: 1.0122 - val_accuracy: 0.6177\n",
            "Epoch 28/200\n",
            "450/450 [==============================] - 105s 234ms/step - loss: 0.9822 - accuracy: 0.6315 - val_loss: 0.9900 - val_accuracy: 0.6292\n",
            "Epoch 29/200\n",
            "450/450 [==============================] - 105s 233ms/step - loss: 0.9655 - accuracy: 0.6413 - val_loss: 1.0412 - val_accuracy: 0.6101\n",
            "Epoch 30/200\n",
            "450/450 [==============================] - 105s 233ms/step - loss: 0.9484 - accuracy: 0.6457 - val_loss: 1.0392 - val_accuracy: 0.6304\n",
            "Epoch 31/200\n",
            "450/450 [==============================] - 105s 233ms/step - loss: 0.9427 - accuracy: 0.6474 - val_loss: 1.0551 - val_accuracy: 0.6236\n",
            "Epoch 32/200\n",
            "450/450 [==============================] - 105s 234ms/step - loss: 0.9275 - accuracy: 0.6548 - val_loss: 1.0332 - val_accuracy: 0.6203\n",
            "Epoch 33/200\n",
            "450/450 [==============================] - 105s 234ms/step - loss: 0.9177 - accuracy: 0.6584 - val_loss: 0.9687 - val_accuracy: 0.6483\n",
            "Epoch 34/200\n",
            "450/450 [==============================] - 105s 234ms/step - loss: 0.9138 - accuracy: 0.6591 - val_loss: 0.9521 - val_accuracy: 0.6557\n",
            "Epoch 35/200\n",
            "450/450 [==============================] - 105s 234ms/step - loss: 0.9019 - accuracy: 0.6664 - val_loss: 0.9368 - val_accuracy: 0.6554\n",
            "Epoch 36/200\n",
            "450/450 [==============================] - 105s 233ms/step - loss: 0.8863 - accuracy: 0.6713 - val_loss: 1.0190 - val_accuracy: 0.6337\n",
            "Epoch 37/200\n",
            "450/450 [==============================] - 105s 233ms/step - loss: 0.8781 - accuracy: 0.6727 - val_loss: 0.9677 - val_accuracy: 0.6545\n",
            "Epoch 38/200\n",
            "450/450 [==============================] - 105s 233ms/step - loss: 0.8628 - accuracy: 0.6798 - val_loss: 1.0078 - val_accuracy: 0.6396\n",
            "Epoch 39/200\n",
            "450/450 [==============================] - 105s 233ms/step - loss: 0.8657 - accuracy: 0.6795 - val_loss: 0.9739 - val_accuracy: 0.6514\n",
            "Epoch 40/200\n",
            "450/450 [==============================] - 105s 233ms/step - loss: 0.8504 - accuracy: 0.6827 - val_loss: 0.9594 - val_accuracy: 0.6519\n",
            "Epoch 41/200\n",
            "450/450 [==============================] - 105s 233ms/step - loss: 0.8413 - accuracy: 0.6878 - val_loss: 0.9581 - val_accuracy: 0.6476\n",
            "Epoch 42/200\n",
            "450/450 [==============================] - 106s 234ms/step - loss: 0.8399 - accuracy: 0.6885 - val_loss: 1.0149 - val_accuracy: 0.6403\n",
            "Epoch 43/200\n",
            "450/450 [==============================] - 106s 235ms/step - loss: 0.8233 - accuracy: 0.6943 - val_loss: 0.9480 - val_accuracy: 0.6594\n",
            "Epoch 44/200\n",
            "450/450 [==============================] - 106s 235ms/step - loss: 0.8170 - accuracy: 0.6991 - val_loss: 0.9601 - val_accuracy: 0.6554\n",
            "Epoch 45/200\n",
            "450/450 [==============================] - 106s 234ms/step - loss: 0.8112 - accuracy: 0.6996 - val_loss: 0.9657 - val_accuracy: 0.6554\n"
          ]
        }
      ],
      "source": [
        "# Fit model\n",
        "\n",
        "history = model.fit(\n",
        "    train_generator, \n",
        "    validation_data = validation_generator,\n",
        "    epochs=jumlah_epochs, \n",
        "    steps_per_epoch = jumlah_training/ukuran_batch,\n",
        "    validation_steps = jumlah_validation/ukuran_batch,\n",
        "    verbose = 1,\n",
        "    callbacks = tf.keras.callbacks.EarlyStopping(monitor='val_loss', patience=10, mode='min', restore_best_weights=True)\n",
        ")"
      ]
    },
    {
      "cell_type": "code",
      "execution_count": null,
      "metadata": {
        "id": "6VZEbkXC1UQg",
        "colab": {
          "base_uri": "https://localhost:8080/",
          "height": 545
        },
        "outputId": "f19bf337-66eb-44db-be74-451cf98ecc1d"
      },
      "outputs": [
        {
          "output_type": "display_data",
          "data": {
            "text/plain": [
              "<Figure size 432x288 with 1 Axes>"
            ],
            "image/png": "[encoded data removed]"
          },
          "metadata": {
            "needs_background": "light"
          }
        },
        {
          "output_type": "display_data",
          "data": {
            "text/plain": [
              "<Figure size 432x288 with 1 Axes>"
            ],
            "image/png": "[encoded data removed]"
          },
          "metadata": {
            "needs_background": "light"
          }
        }
      ],
      "source": [
        "acc = history.history['accuracy']\n",
        "val_acc = history.history['val_accuracy']\n",
        "loss = history.history['loss']\n",
        "val_loss = history.history['val_loss']\n",
        "\n",
        "epochs = range(len(acc))\n",
        "\n",
        "plt.plot(epochs, acc, 'r', label='Training accuracy')\n",
        "plt.plot(epochs, val_acc, 'b', label='Validation accuracy')\n",
        "plt.title('Training and validation accuracy')\n",
        "plt.legend()\n",
        "\n",
        "plt.figure()\n",
        "\n",
        "plt.plot(epochs, loss, 'r', label='Training Loss')\n",
        "plt.plot(epochs, val_loss, 'b', label='Validation Loss')\n",
        "plt.title('Training and validation loss')\n",
        "plt.legend()\n",
        "\n",
        "plt.show()"
      ]
    },
    {
      "cell_type": "code",
      "source": [
        "test_datagen = ImageDataGenerator()\n",
        "\n",
        "test_generator = test_datagen.flow_from_directory(\n",
        "    \"split-folders/test/\",\n",
        "    target_size=(48,48),\n",
        "    batch_size = ukuran_batch,\n",
        "    color_mode = 'grayscale',\n",
        "    class_mode = \"categorical\"\n",
        ")\n",
        "\n",
        "accuracy_score = model.evaluate(test_generator)\n",
        "print(\"Accuracy: {:.4f}%\".format(accuracy_score[1] * 100))\n",
        "print(\"Loss: \",accuracy_score[0])"
      ],
      "metadata": {
        "colab": {
          "base_uri": "https://localhost:8080/"
        },
        "id": "KQ_UYhFQkr0g",
        "outputId": "b6426a4c-c7cd-4876-99a4-9883908f6c61"
      },
      "execution_count": null,
      "outputs": [
        {
          "output_type": "stream",
          "name": "stdout",
          "text": [
            "Found 2829 images belonging to 7 classes.\n",
            "45/45 [==============================] - 3s 68ms/step - loss: 0.9749 - accuracy: 0.6412\n",
            "Accuracy: 64.1216%\n",
            "Loss:  0.9749478697776794\n"
          ]
        }
      ]
    },
    {
      "cell_type": "code",
      "source": [],
      "metadata": {
        "id": "lVsjqwq6yMfy"
      },
      "execution_count": null,
      "outputs": []
    }
  ],
  "metadata": {
    "colab": {
      "provenance": []
    },
    "kernelspec": {
      "display_name": "Python 3",
      "name": "python3"
    },
    "language_info": {
      "name": "python"
    },
    "accelerator": "GPU",
    "gpuClass": "standard"
  },
  "nbformat": 4,
  "nbformat_minor": 0
}